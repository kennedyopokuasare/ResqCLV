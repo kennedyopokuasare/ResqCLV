{
 "cells": [
  {
   "cell_type": "markdown",
   "metadata": {},
   "source": [
    "# Data Exploration and Pipeline\n",
    "\n",
    "The database contains `Users`, `Orders`, and `Partners` tables. \n",
    "\n",
    "Partners are the companies who sell surplus items on the marketplace.\n",
    "A cohort consists of customers who made their first order within the same month (M0). \n",
    "M1 retention is the share of customers who have made at least one purchase one month after their first purchase month.\n",
    "\n",
    "Explore the data with Sql to investigate the following:\n",
    "\n",
    "- The top 10 partners by sales\n",
    "- Customers’ favourite partner segments (default offer types). \n",
    "- What is the M1 retention for any given customer cohort. "
   ]
  },
  {
   "cell_type": "markdown",
   "metadata": {},
   "source": [
    "## Connect to the database \n",
    "The connection to the sqlite datbase is achieved through the `jupysql` python library. This allows querying the database from jupyter notebook. Alternative tools are SQLMagic"
   ]
  },
  {
   "cell_type": "code",
   "execution_count": 41,
   "metadata": {},
   "outputs": [
    {
     "name": "stdout",
     "output_type": "stream",
     "text": [
      "The sql extension is already loaded. To reload it, use:\n",
      "  %reload_ext sql\n"
     ]
    },
    {
     "data": {
      "text/html": [
       "<span style=\"None\">displaylimit: Value None will be treated as 0 (no limit)</span>"
      ],
      "text/plain": [
       "displaylimit: Value None will be treated as 0 (no limit)"
      ]
     },
     "metadata": {},
     "output_type": "display_data"
    }
   ],
   "source": [
    "import sqlite3\n",
    "con = sqlite3.connect(\"./data/mock_resq.db\") \n",
    "\n",
    "%load_ext sql\n",
    "%config SqlMagic.displaylimit = None\n",
    "\n",
    "%sql sqlite:///data/mock_resq.db"
   ]
  },
  {
   "cell_type": "markdown",
   "metadata": {},
   "source": [
    "### How many user are in the database"
   ]
  },
  {
   "cell_type": "code",
   "execution_count": 42,
   "metadata": {},
   "outputs": [
    {
     "data": {
      "text/html": [
       "<span style=\"None\">Running query in &#x27;sqlite:///data/mock_resq.db&#x27;</span>"
      ],
      "text/plain": [
       "Running query in 'sqlite:///data/mock_resq.db'"
      ]
     },
     "metadata": {},
     "output_type": "display_data"
    },
    {
     "data": {
      "text/html": [
       "<table>\n",
       "    <thead>\n",
       "        <tr>\n",
       "            <th>USER_COUNT</th>\n",
       "        </tr>\n",
       "    </thead>\n",
       "    <tbody>\n",
       "        <tr>\n",
       "            <td>358366</td>\n",
       "        </tr>\n",
       "    </tbody>\n",
       "</table>"
      ],
      "text/plain": [
       "+------------+\n",
       "| USER_COUNT |\n",
       "+------------+\n",
       "|   358366   |\n",
       "+------------+"
      ]
     },
     "execution_count": 42,
     "metadata": {},
     "output_type": "execute_result"
    }
   ],
   "source": [
    "%%sql\n",
    "SELECT COUNT(*) AS USER_COUNT\n",
    "FROM USERS"
   ]
  },
  {
   "cell_type": "markdown",
   "metadata": {},
   "source": [
    "### How many countries do the users come from"
   ]
  },
  {
   "cell_type": "code",
   "execution_count": 43,
   "metadata": {},
   "outputs": [
    {
     "data": {
      "text/html": [
       "<span style=\"None\">Running query in &#x27;sqlite:///data/mock_resq.db&#x27;</span>"
      ],
      "text/plain": [
       "Running query in 'sqlite:///data/mock_resq.db'"
      ]
     },
     "metadata": {},
     "output_type": "display_data"
    },
    {
     "data": {
      "text/html": [
       "<table>\n",
       "    <thead>\n",
       "        <tr>\n",
       "            <th>COUNTRY_COUNT</th>\n",
       "        </tr>\n",
       "    </thead>\n",
       "    <tbody>\n",
       "        <tr>\n",
       "            <td>111</td>\n",
       "        </tr>\n",
       "    </tbody>\n",
       "</table>"
      ],
      "text/plain": [
       "+---------------+\n",
       "| COUNTRY_COUNT |\n",
       "+---------------+\n",
       "|      111      |\n",
       "+---------------+"
      ]
     },
     "execution_count": 43,
     "metadata": {},
     "output_type": "execute_result"
    }
   ],
   "source": [
    "%%sql\n",
    "SELECT COUNT(DISTINCT COUNTRY) AS COUNTRY_COUNT\n",
    "FROM USERS"
   ]
  },
  {
   "cell_type": "markdown",
   "metadata": {},
   "source": [
    "### Which top 10 countries have the most users"
   ]
  },
  {
   "cell_type": "code",
   "execution_count": 44,
   "metadata": {},
   "outputs": [
    {
     "data": {
      "text/html": [
       "<span style=\"None\">Running query in &#x27;sqlite:///data/mock_resq.db&#x27;</span>"
      ],
      "text/plain": [
       "Running query in 'sqlite:///data/mock_resq.db'"
      ]
     },
     "metadata": {},
     "output_type": "display_data"
    },
    {
     "data": {
      "text/html": [
       "<table>\n",
       "    <thead>\n",
       "        <tr>\n",
       "            <th>country</th>\n",
       "            <th>USER_COUNT</th>\n",
       "        </tr>\n",
       "    </thead>\n",
       "    <tbody>\n",
       "        <tr>\n",
       "            <td>FI</td>\n",
       "            <td>339573</td>\n",
       "        </tr>\n",
       "        <tr>\n",
       "            <td>SE</td>\n",
       "            <td>8961</td>\n",
       "        </tr>\n",
       "        <tr>\n",
       "            <td>EE</td>\n",
       "            <td>6505</td>\n",
       "        </tr>\n",
       "        <tr>\n",
       "            <td>DE</td>\n",
       "            <td>512</td>\n",
       "        </tr>\n",
       "        <tr>\n",
       "            <td>AX</td>\n",
       "            <td>434</td>\n",
       "        </tr>\n",
       "        <tr>\n",
       "            <td>ES</td>\n",
       "            <td>209</td>\n",
       "        </tr>\n",
       "        <tr>\n",
       "            <td>FR</td>\n",
       "            <td>200</td>\n",
       "        </tr>\n",
       "        <tr>\n",
       "            <td>GB</td>\n",
       "            <td>190</td>\n",
       "        </tr>\n",
       "        <tr>\n",
       "            <td>AT</td>\n",
       "            <td>182</td>\n",
       "        </tr>\n",
       "        <tr>\n",
       "            <td>NL</td>\n",
       "            <td>152</td>\n",
       "        </tr>\n",
       "    </tbody>\n",
       "</table>"
      ],
      "text/plain": [
       "+---------+------------+\n",
       "| country | USER_COUNT |\n",
       "+---------+------------+\n",
       "|    FI   |   339573   |\n",
       "|    SE   |    8961    |\n",
       "|    EE   |    6505    |\n",
       "|    DE   |    512     |\n",
       "|    AX   |    434     |\n",
       "|    ES   |    209     |\n",
       "|    FR   |    200     |\n",
       "|    GB   |    190     |\n",
       "|    AT   |    182     |\n",
       "|    NL   |    152     |\n",
       "+---------+------------+"
      ]
     },
     "execution_count": 44,
     "metadata": {},
     "output_type": "execute_result"
    }
   ],
   "source": [
    "%%sql \n",
    "SELECT COUNTRY, COUNT(*) AS USER_COUNT\n",
    "FROM USERS \n",
    "GROUP BY COUNTRY\n",
    "ORDER BY USER_COUNT DESC\n",
    "LIMIT 10\n"
   ]
  },
  {
   "cell_type": "markdown",
   "metadata": {},
   "source": [
    "### Inference\n",
    "\n",
    "-  There are **358,366** users in the database who are from **111** different countries. \n",
    "-  The top 10 countries where the users come from are Finland (FI), Sweden (SE), Estonia(EE), Germany(DE), Åland (AX), Spain (ES), France (FR), Great Britain (GB), Austria (AT) and Netherlands (NL). \n",
    "-  Ninety-four perecent of users (94% i.e **339573** users) are from Finland, followed by Sweden which has **8961** users. "
   ]
  },
  {
   "cell_type": "markdown",
   "metadata": {},
   "source": [
    "## How many Providers are in the database"
   ]
  },
  {
   "cell_type": "code",
   "execution_count": 45,
   "metadata": {},
   "outputs": [
    {
     "data": {
      "text/html": [
       "<span style=\"None\">Running query in &#x27;sqlite:///data/mock_resq.db&#x27;</span>"
      ],
      "text/plain": [
       "Running query in 'sqlite:///data/mock_resq.db'"
      ]
     },
     "metadata": {},
     "output_type": "display_data"
    },
    {
     "data": {
      "text/html": [
       "<table>\n",
       "    <thead>\n",
       "        <tr>\n",
       "            <th>PROVIDER_COUNT</th>\n",
       "        </tr>\n",
       "    </thead>\n",
       "    <tbody>\n",
       "        <tr>\n",
       "            <td>4337</td>\n",
       "        </tr>\n",
       "    </tbody>\n",
       "</table>"
      ],
      "text/plain": [
       "+----------------+\n",
       "| PROVIDER_COUNT |\n",
       "+----------------+\n",
       "|      4337      |\n",
       "+----------------+"
      ]
     },
     "execution_count": 45,
     "metadata": {},
     "output_type": "execute_result"
    }
   ],
   "source": [
    "%%sql\n",
    "SELECT COUNT(ID) AS PROVIDER_COUNT\n",
    "FROM PROVIDERS"
   ]
  },
  {
   "cell_type": "markdown",
   "metadata": {},
   "source": [
    "## Do providers have multiple offer types?"
   ]
  },
  {
   "cell_type": "code",
   "execution_count": 46,
   "metadata": {},
   "outputs": [
    {
     "data": {
      "text/html": [
       "<span style=\"None\">Running query in &#x27;sqlite:///data/mock_resq.db&#x27;</span>"
      ],
      "text/plain": [
       "Running query in 'sqlite:///data/mock_resq.db'"
      ]
     },
     "metadata": {},
     "output_type": "display_data"
    },
    {
     "data": {
      "text/html": [
       "<table>\n",
       "    <thead>\n",
       "        <tr>\n",
       "            <th>PROVIDER</th>\n",
       "            <th>OFFER_TYPE_COUNT</th>\n",
       "        </tr>\n",
       "    </thead>\n",
       "    <tbody>\n",
       "        <tr>\n",
       "            <td>9222930112446389796</td>\n",
       "            <td>1</td>\n",
       "        </tr>\n",
       "        <tr>\n",
       "            <td>9217379655006460479</td>\n",
       "            <td>1</td>\n",
       "        </tr>\n",
       "        <tr>\n",
       "            <td>9215371507696178188</td>\n",
       "            <td>1</td>\n",
       "        </tr>\n",
       "        <tr>\n",
       "            <td>9214584721622525154</td>\n",
       "            <td>1</td>\n",
       "        </tr>\n",
       "        <tr>\n",
       "            <td>9212615296993900753</td>\n",
       "            <td>1</td>\n",
       "        </tr>\n",
       "    </tbody>\n",
       "</table>"
      ],
      "text/plain": [
       "+---------------------+------------------+\n",
       "|       PROVIDER      | OFFER_TYPE_COUNT |\n",
       "+---------------------+------------------+\n",
       "| 9222930112446389796 |        1         |\n",
       "| 9217379655006460479 |        1         |\n",
       "| 9215371507696178188 |        1         |\n",
       "| 9214584721622525154 |        1         |\n",
       "| 9212615296993900753 |        1         |\n",
       "+---------------------+------------------+"
      ]
     },
     "execution_count": 46,
     "metadata": {},
     "output_type": "execute_result"
    }
   ],
   "source": [
    "%%sql\n",
    "SELECT ID AS PROVIDER, COUNT(DEFAULTOFFERTYPE) AS OFFER_TYPE_COUNT\n",
    "FROM PROVIDERS\n",
    "GROUP BY ID\n",
    "ORDER BY OFFER_TYPE_COUNT DESC\n",
    "LIMIT 5"
   ]
  },
  {
   "cell_type": "markdown",
   "metadata": {},
   "source": [
    "### How providers by country"
   ]
  },
  {
   "cell_type": "code",
   "execution_count": 47,
   "metadata": {},
   "outputs": [
    {
     "data": {
      "text/html": [
       "<span style=\"None\">Running query in &#x27;sqlite:///data/mock_resq.db&#x27;</span>"
      ],
      "text/plain": [
       "Running query in 'sqlite:///data/mock_resq.db'"
      ]
     },
     "metadata": {},
     "output_type": "display_data"
    },
    {
     "data": {
      "text/html": [
       "<table>\n",
       "    <thead>\n",
       "        <tr>\n",
       "            <th>country</th>\n",
       "            <th>PROVIDER_COUNT</th>\n",
       "        </tr>\n",
       "    </thead>\n",
       "    <tbody>\n",
       "        <tr>\n",
       "            <td>fin</td>\n",
       "            <td>4095</td>\n",
       "        </tr>\n",
       "        <tr>\n",
       "            <td>est</td>\n",
       "            <td>154</td>\n",
       "        </tr>\n",
       "        <tr>\n",
       "            <td>swe</td>\n",
       "            <td>84</td>\n",
       "        </tr>\n",
       "        <tr>\n",
       "            <td>pol</td>\n",
       "            <td>2</td>\n",
       "        </tr>\n",
       "        <tr>\n",
       "            <td>deu</td>\n",
       "            <td>2</td>\n",
       "        </tr>\n",
       "    </tbody>\n",
       "</table>"
      ],
      "text/plain": [
       "+---------+----------------+\n",
       "| country | PROVIDER_COUNT |\n",
       "+---------+----------------+\n",
       "|   fin   |      4095      |\n",
       "|   est   |      154       |\n",
       "|   swe   |       84       |\n",
       "|   pol   |       2        |\n",
       "|   deu   |       2        |\n",
       "+---------+----------------+"
      ]
     },
     "execution_count": 47,
     "metadata": {},
     "output_type": "execute_result"
    }
   ],
   "source": [
    "%%sql \n",
    "SELECT COUNTRY, COUNT(ID) AS PROVIDER_COUNT\n",
    "FROM PROVIDERS\n",
    "GROUP BY COUNTRY\n",
    "ORDER BY PROVIDER_COUNT DESC"
   ]
  },
  {
   "cell_type": "markdown",
   "metadata": {},
   "source": [
    "## Inference\n",
    "\n",
    "- There are **4337** providers in the database, with each provider having exactly one offer type (meal, snack, dessert, ingredients, flowers etc).  \n",
    "- The providers are from Finland (FIN), Estonia (EST), Sweden (SWE), Poland (POL) and Germany (DEU). \n",
    "- Over **94 percent (4095)** of the providers are from Finland, followed by Estonia with **154** providers. \n",
    "- Poland and Germany has two (2) providers each. \n",
    "\n",
    "\n",
    "`Questions:` \n",
    "\n",
    "Are **partners** the same as **providers** ? If yes, Why the difference in numenclature in Db and instructions? \n",
    "\n",
    "The **Users** table has the two-letter [ISO-3166 country codes](https://en.wikipedia.org/wiki/List_of_ISO_3166_country_codes) (example FI, SE, ES), while the **Providers** table uses the three-letter country code (example FIN, SWE, POL). Is there a perculiar reason for this ? \n",
    "\n",
    "\n",
    "All Providers have exactly one offer type in the database, however the numenclature of the offer says **defaultOfferType** and **partner segment**. Do providers have multiple offer types ? Could the numenclature be harmonised ?"
   ]
  },
  {
   "cell_type": "markdown",
   "metadata": {},
   "source": [
    "\n",
    "# `Now answering the Analyst's questions`"
   ]
  },
  {
   "cell_type": "markdown",
   "metadata": {},
   "source": [
    "## Top 10 partners by sales"
   ]
  },
  {
   "cell_type": "code",
   "execution_count": 48,
   "metadata": {},
   "outputs": [
    {
     "data": {
      "text/html": [
       "<span style=\"None\">Running query in &#x27;sqlite:///data/mock_resq.db&#x27;</span>"
      ],
      "text/plain": [
       "Running query in 'sqlite:///data/mock_resq.db'"
      ]
     },
     "metadata": {},
     "output_type": "display_data"
    },
    {
     "data": {
      "text/html": [
       "<table>\n",
       "    <thead>\n",
       "        <tr>\n",
       "            <th>providerId</th>\n",
       "            <th>TOTAL_SALES</th>\n",
       "        </tr>\n",
       "    </thead>\n",
       "    <tbody>\n",
       "        <tr>\n",
       "            <td>7198110370745783236</td>\n",
       "            <td>10917800</td>\n",
       "        </tr>\n",
       "        <tr>\n",
       "            <td>8312310143652755348</td>\n",
       "            <td>7467750</td>\n",
       "        </tr>\n",
       "        <tr>\n",
       "            <td>8097235958083241788</td>\n",
       "            <td>2383700</td>\n",
       "        </tr>\n",
       "        <tr>\n",
       "            <td>3865474760205653333</td>\n",
       "            <td>2223400</td>\n",
       "        </tr>\n",
       "        <tr>\n",
       "            <td>8084884958338058541</td>\n",
       "            <td>1868140</td>\n",
       "        </tr>\n",
       "        <tr>\n",
       "            <td>4734853230275691017</td>\n",
       "            <td>1702100</td>\n",
       "        </tr>\n",
       "        <tr>\n",
       "            <td>5305286819167536850</td>\n",
       "            <td>1690500</td>\n",
       "        </tr>\n",
       "        <tr>\n",
       "            <td>1066258454353124935</td>\n",
       "            <td>1568100</td>\n",
       "        </tr>\n",
       "        <tr>\n",
       "            <td>7642201963087705313</td>\n",
       "            <td>1472000</td>\n",
       "        </tr>\n",
       "        <tr>\n",
       "            <td>4014236829817167297</td>\n",
       "            <td>1457000</td>\n",
       "        </tr>\n",
       "    </tbody>\n",
       "</table>"
      ],
      "text/plain": [
       "+---------------------+-------------+\n",
       "|      providerId     | TOTAL_SALES |\n",
       "+---------------------+-------------+\n",
       "| 7198110370745783236 |   10917800  |\n",
       "| 8312310143652755348 |   7467750   |\n",
       "| 8097235958083241788 |   2383700   |\n",
       "| 3865474760205653333 |   2223400   |\n",
       "| 8084884958338058541 |   1868140   |\n",
       "| 4734853230275691017 |   1702100   |\n",
       "| 5305286819167536850 |   1690500   |\n",
       "| 1066258454353124935 |   1568100   |\n",
       "| 7642201963087705313 |   1472000   |\n",
       "| 4014236829817167297 |   1457000   |\n",
       "+---------------------+-------------+"
      ]
     },
     "execution_count": 48,
     "metadata": {},
     "output_type": "execute_result"
    }
   ],
   "source": [
    "%%sql \n",
    "SELECT PROVIDERID, SUM(SALES) AS TOTAL_SALES\n",
    "FROM ORDERS\n",
    "GROUP BY PROVIDERID\n",
    "ORDER BY TOTAL_SALES DESC\n",
    "LIMIT 10"
   ]
  },
  {
   "cell_type": "markdown",
   "metadata": {},
   "source": [
    "How many currencies are there in the database?"
   ]
  },
  {
   "cell_type": "code",
   "execution_count": 49,
   "metadata": {},
   "outputs": [
    {
     "data": {
      "text/html": [
       "<span style=\"None\">Running query in &#x27;sqlite:///data/mock_resq.db&#x27;</span>"
      ],
      "text/plain": [
       "Running query in 'sqlite:///data/mock_resq.db'"
      ]
     },
     "metadata": {},
     "output_type": "display_data"
    },
    {
     "data": {
      "text/html": [
       "<table>\n",
       "    <thead>\n",
       "        <tr>\n",
       "            <th>currency</th>\n",
       "        </tr>\n",
       "    </thead>\n",
       "    <tbody>\n",
       "        <tr>\n",
       "            <td>eur</td>\n",
       "        </tr>\n",
       "        <tr>\n",
       "            <td>sek</td>\n",
       "        </tr>\n",
       "    </tbody>\n",
       "</table>"
      ],
      "text/plain": [
       "+----------+\n",
       "| currency |\n",
       "+----------+\n",
       "|   eur    |\n",
       "|   sek    |\n",
       "+----------+"
      ]
     },
     "execution_count": 49,
     "metadata": {},
     "output_type": "execute_result"
    }
   ],
   "source": [
    "%%sql \n",
    "SELECT DISTINCT CURRENCY\n",
    "FROM ORDERS"
   ]
  },
  {
   "cell_type": "markdown",
   "metadata": {},
   "source": [
    "There are only **Euro(EUR)** and **Swedish Krone (SEK)** currencies in the database. \n",
    "\n",
    "`Question:` Is the conversion rate to the base currency, most likely in Euro, saved during the order payment? This will be useful in transforming the sales figures into a commmon currency for consistent reporting. "
   ]
  },
  {
   "cell_type": "markdown",
   "metadata": {},
   "source": [
    "How about **top 10 partners by sales in the respective sales currencies** ?"
   ]
  },
  {
   "cell_type": "code",
   "execution_count": 50,
   "metadata": {},
   "outputs": [
    {
     "data": {
      "text/html": [
       "<span style=\"None\">Running query in &#x27;sqlite:///data/mock_resq.db&#x27;</span>"
      ],
      "text/plain": [
       "Running query in 'sqlite:///data/mock_resq.db'"
      ]
     },
     "metadata": {},
     "output_type": "display_data"
    },
    {
     "data": {
      "text/html": [
       "<table>\n",
       "    <thead>\n",
       "        <tr>\n",
       "            <th>providerId</th>\n",
       "            <th>currency</th>\n",
       "            <th>TOTAL_SALES</th>\n",
       "        </tr>\n",
       "    </thead>\n",
       "    <tbody>\n",
       "        <tr>\n",
       "            <td>7198110370745783236</td>\n",
       "            <td>sek</td>\n",
       "            <td>10917800</td>\n",
       "        </tr>\n",
       "        <tr>\n",
       "            <td>8312310143652755348</td>\n",
       "            <td>sek</td>\n",
       "            <td>7467750</td>\n",
       "        </tr>\n",
       "        <tr>\n",
       "            <td>8097235958083241788</td>\n",
       "            <td>sek</td>\n",
       "            <td>2383700</td>\n",
       "        </tr>\n",
       "        <tr>\n",
       "            <td>3865474760205653333</td>\n",
       "            <td>sek</td>\n",
       "            <td>2223400</td>\n",
       "        </tr>\n",
       "        <tr>\n",
       "            <td>8084884958338058541</td>\n",
       "            <td>eur</td>\n",
       "            <td>1868140</td>\n",
       "        </tr>\n",
       "        <tr>\n",
       "            <td>4734853230275691017</td>\n",
       "            <td>sek</td>\n",
       "            <td>1702100</td>\n",
       "        </tr>\n",
       "        <tr>\n",
       "            <td>5305286819167536850</td>\n",
       "            <td>sek</td>\n",
       "            <td>1690500</td>\n",
       "        </tr>\n",
       "        <tr>\n",
       "            <td>1066258454353124935</td>\n",
       "            <td>sek</td>\n",
       "            <td>1568100</td>\n",
       "        </tr>\n",
       "        <tr>\n",
       "            <td>7642201963087705313</td>\n",
       "            <td>sek</td>\n",
       "            <td>1472000</td>\n",
       "        </tr>\n",
       "        <tr>\n",
       "            <td>4014236829817167297</td>\n",
       "            <td>sek</td>\n",
       "            <td>1457000</td>\n",
       "        </tr>\n",
       "    </tbody>\n",
       "</table>"
      ],
      "text/plain": [
       "+---------------------+----------+-------------+\n",
       "|      providerId     | currency | TOTAL_SALES |\n",
       "+---------------------+----------+-------------+\n",
       "| 7198110370745783236 |   sek    |   10917800  |\n",
       "| 8312310143652755348 |   sek    |   7467750   |\n",
       "| 8097235958083241788 |   sek    |   2383700   |\n",
       "| 3865474760205653333 |   sek    |   2223400   |\n",
       "| 8084884958338058541 |   eur    |   1868140   |\n",
       "| 4734853230275691017 |   sek    |   1702100   |\n",
       "| 5305286819167536850 |   sek    |   1690500   |\n",
       "| 1066258454353124935 |   sek    |   1568100   |\n",
       "| 7642201963087705313 |   sek    |   1472000   |\n",
       "| 4014236829817167297 |   sek    |   1457000   |\n",
       "+---------------------+----------+-------------+"
      ]
     },
     "execution_count": 50,
     "metadata": {},
     "output_type": "execute_result"
    }
   ],
   "source": [
    "%%sql \n",
    "SELECT PROVIDERID, CURRENCY, SUM(SALES) AS TOTAL_SALES\n",
    "FROM ORDERS\n",
    "GROUP BY PROVIDERID, CURRENCY\n",
    "ORDER BY TOTAL_SALES DESC\n",
    "LIMIT 10"
   ]
  },
  {
   "cell_type": "markdown",
   "metadata": {},
   "source": [
    "The same providers are in the top 10"
   ]
  },
  {
   "cell_type": "markdown",
   "metadata": {},
   "source": [
    "## Customers’ favourite partner segments (default offer types)."
   ]
  },
  {
   "cell_type": "code",
   "execution_count": 51,
   "metadata": {},
   "outputs": [
    {
     "data": {
      "text/html": [
       "<span style=\"None\">Running query in &#x27;sqlite:///data/mock_resq.db&#x27;</span>"
      ],
      "text/plain": [
       "Running query in 'sqlite:///data/mock_resq.db'"
      ]
     },
     "metadata": {},
     "output_type": "display_data"
    },
    {
     "data": {
      "text/html": [
       "<table>\n",
       "    <thead>\n",
       "        <tr>\n",
       "            <th>PARTNER_SEGMENT</th>\n",
       "            <th>SUM_ORDER_QUANTITY</th>\n",
       "        </tr>\n",
       "    </thead>\n",
       "    <tbody>\n",
       "        <tr>\n",
       "            <td>meal</td>\n",
       "            <td>305254</td>\n",
       "        </tr>\n",
       "    </tbody>\n",
       "</table>"
      ],
      "text/plain": [
       "+-----------------+--------------------+\n",
       "| PARTNER_SEGMENT | SUM_ORDER_QUANTITY |\n",
       "+-----------------+--------------------+\n",
       "|       meal      |       305254       |\n",
       "+-----------------+--------------------+"
      ]
     },
     "execution_count": 51,
     "metadata": {},
     "output_type": "execute_result"
    }
   ],
   "source": [
    "%%sql \n",
    "SELECT P.DEFAULTOFFERTYPE AS PARTNER_SEGMENT, SUM(O.QUANTITY) AS SUM_ORDER_QUANTITY\n",
    "FROM ORDERS O\n",
    "JOIN PROVIDERS P ON O.PROVIDERID = P.ID\n",
    "GROUP BY P.DEFAULTOFFERTYPE\n",
    "ORDER BY SUM_ORDER_QUANTITY DESC\n",
    "LIMIT 1"
   ]
  },
  {
   "cell_type": "markdown",
   "metadata": {},
   "source": [
    "The Customers' favourite partner segment is **meal** with **305254** orders. "
   ]
  },
  {
   "cell_type": "markdown",
   "metadata": {},
   "source": [
    "## What is the M1 retention for any given customer cohort. "
   ]
  },
  {
   "cell_type": "markdown",
   "metadata": {},
   "source": [
    "Check table definition and order table columntypes"
   ]
  },
  {
   "cell_type": "code",
   "execution_count": 54,
   "metadata": {},
   "outputs": [
    {
     "data": {
      "text/html": [
       "<span style=\"None\">Running query in &#x27;sqlite:///data/mock_resq.db&#x27;</span>"
      ],
      "text/plain": [
       "Running query in 'sqlite:///data/mock_resq.db'"
      ]
     },
     "metadata": {},
     "output_type": "display_data"
    },
    {
     "data": {
      "text/html": [
       "<table>\n",
       "    <thead>\n",
       "        <tr>\n",
       "            <th>type</th>\n",
       "            <th>name</th>\n",
       "            <th>tbl_name</th>\n",
       "            <th>rootpage</th>\n",
       "            <th>sql</th>\n",
       "        </tr>\n",
       "    </thead>\n",
       "    <tbody>\n",
       "        <tr>\n",
       "            <td>table</td>\n",
       "            <td>orders</td>\n",
       "            <td>orders</td>\n",
       "            <td>2</td>\n",
       "            <td>CREATE TABLE orders (id, createdAt, userId, quantity, refunded, currency, sales, providerId)</td>\n",
       "        </tr>\n",
       "        <tr>\n",
       "            <td>table</td>\n",
       "            <td>providers</td>\n",
       "            <td>providers</td>\n",
       "            <td>4420</td>\n",
       "            <td>CREATE TABLE providers (id, defaultOfferType, country, registeredDate)</td>\n",
       "        </tr>\n",
       "        <tr>\n",
       "            <td>table</td>\n",
       "            <td>users</td>\n",
       "            <td>users</td>\n",
       "            <td>4465</td>\n",
       "            <td>CREATE TABLE users (id, country, registeredDate)</td>\n",
       "        </tr>\n",
       "    </tbody>\n",
       "</table>"
      ],
      "text/plain": [
       "+-------+-----------+-----------+----------+----------------------------------------------------------------------------------------------+\n",
       "|  type |    name   |  tbl_name | rootpage |                                             sql                                              |\n",
       "+-------+-----------+-----------+----------+----------------------------------------------------------------------------------------------+\n",
       "| table |   orders  |   orders  |    2     | CREATE TABLE orders (id, createdAt, userId, quantity, refunded, currency, sales, providerId) |\n",
       "| table | providers | providers |   4420   |            CREATE TABLE providers (id, defaultOfferType, country, registeredDate)            |\n",
       "| table |   users   |   users   |   4465   |                       CREATE TABLE users (id, country, registeredDate)                       |\n",
       "+-------+-----------+-----------+----------+----------------------------------------------------------------------------------------------+"
      ]
     },
     "execution_count": 54,
     "metadata": {},
     "output_type": "execute_result"
    }
   ],
   "source": [
    "%sql SELECT * FROM SQLITE_MASTER where TYPE='table'"
   ]
  },
  {
   "cell_type": "code",
   "execution_count": 55,
   "metadata": {},
   "outputs": [
    {
     "data": {
      "text/html": [
       "<span style=\"None\">Running query in &#x27;sqlite:///data/mock_resq.db&#x27;</span>"
      ],
      "text/plain": [
       "Running query in 'sqlite:///data/mock_resq.db'"
      ]
     },
     "metadata": {},
     "output_type": "display_data"
    },
    {
     "data": {
      "text/html": [
       "<table>\n",
       "    <thead>\n",
       "        <tr>\n",
       "            <th>name</th>\n",
       "            <th>type</th>\n",
       "        </tr>\n",
       "    </thead>\n",
       "    <tbody>\n",
       "        <tr>\n",
       "            <td>id</td>\n",
       "            <td></td>\n",
       "        </tr>\n",
       "        <tr>\n",
       "            <td>createdAt</td>\n",
       "            <td></td>\n",
       "        </tr>\n",
       "        <tr>\n",
       "            <td>userId</td>\n",
       "            <td></td>\n",
       "        </tr>\n",
       "        <tr>\n",
       "            <td>quantity</td>\n",
       "            <td></td>\n",
       "        </tr>\n",
       "        <tr>\n",
       "            <td>refunded</td>\n",
       "            <td></td>\n",
       "        </tr>\n",
       "        <tr>\n",
       "            <td>currency</td>\n",
       "            <td></td>\n",
       "        </tr>\n",
       "        <tr>\n",
       "            <td>sales</td>\n",
       "            <td></td>\n",
       "        </tr>\n",
       "        <tr>\n",
       "            <td>providerId</td>\n",
       "            <td></td>\n",
       "        </tr>\n",
       "    </tbody>\n",
       "</table>"
      ],
      "text/plain": [
       "+------------+------+\n",
       "|    name    | type |\n",
       "+------------+------+\n",
       "|     id     |      |\n",
       "| createdAt  |      |\n",
       "|   userId   |      |\n",
       "|  quantity  |      |\n",
       "|  refunded  |      |\n",
       "|  currency  |      |\n",
       "|   sales    |      |\n",
       "| providerId |      |\n",
       "+------------+------+"
      ]
     },
     "execution_count": 55,
     "metadata": {},
     "output_type": "execute_result"
    }
   ],
   "source": [
    "%sql SELECT NAME, TYPE FROM PRAGMA_TABLE_INFO('ORDERS')"
   ]
  },
  {
   "cell_type": "markdown",
   "metadata": {},
   "source": [
    "No column types ? This is quit strange. The Date fields needs to be converted for date and aggregation functions"
   ]
  },
  {
   "cell_type": "markdown",
   "metadata": {},
   "source": [
    "### Creating cohorts\n",
    "A cohort consists of customers who made their first order within the same month (M0). \n",
    "M1 retention is the share of customers who have made at least one purchase one month after their first purchase month"
   ]
  },
  {
   "cell_type": "code",
   "execution_count": 80,
   "metadata": {},
   "outputs": [
    {
     "data": {
      "text/html": [
       "<span style=\"None\">Running query in &#x27;sqlite:///data/mock_resq.db&#x27;</span>"
      ],
      "text/plain": [
       "Running query in 'sqlite:///data/mock_resq.db'"
      ]
     },
     "metadata": {},
     "output_type": "display_data"
    },
    {
     "data": {
      "text/html": [
       "<table>\n",
       "    <thead>\n",
       "        <tr>\n",
       "            <th>userId</th>\n",
       "            <th>ORDER_DATE</th>\n",
       "            <th>FIRST_ORDER_DATE</th>\n",
       "            <th>COHORT</th>\n",
       "        </tr>\n",
       "    </thead>\n",
       "    <tbody>\n",
       "        <tr>\n",
       "            <td>65326324392533</td>\n",
       "            <td>2023-05-02 05:33:45</td>\n",
       "            <td>2023-05-02</td>\n",
       "            <td>0</td>\n",
       "        </tr>\n",
       "        <tr>\n",
       "            <td>168982159910603</td>\n",
       "            <td>2023-08-24 08:38:20</td>\n",
       "            <td>2023-08-24</td>\n",
       "            <td>0</td>\n",
       "        </tr>\n",
       "        <tr>\n",
       "            <td>219034330643057</td>\n",
       "            <td>2022-11-14 14:03:20</td>\n",
       "            <td>2022-11-14</td>\n",
       "            <td>0</td>\n",
       "        </tr>\n",
       "        <tr>\n",
       "            <td>219034330643057</td>\n",
       "            <td>2023-01-26 14:41:38</td>\n",
       "            <td>2022-11-14</td>\n",
       "            <td>2</td>\n",
       "        </tr>\n",
       "        <tr>\n",
       "            <td>219034330643057</td>\n",
       "            <td>2023-11-08 15:21:25</td>\n",
       "            <td>2022-11-14</td>\n",
       "            <td>12</td>\n",
       "        </tr>\n",
       "        <tr>\n",
       "            <td>271311745575070</td>\n",
       "            <td>2022-12-21 14:51:31</td>\n",
       "            <td>2022-12-21</td>\n",
       "            <td>0</td>\n",
       "        </tr>\n",
       "        <tr>\n",
       "            <td>327509841715406</td>\n",
       "            <td>2022-10-30 15:04:46</td>\n",
       "            <td>2022-10-30</td>\n",
       "            <td>0</td>\n",
       "        </tr>\n",
       "        <tr>\n",
       "            <td>332400596016082</td>\n",
       "            <td>2023-04-25 16:26:51</td>\n",
       "            <td>2023-04-25</td>\n",
       "            <td>0</td>\n",
       "        </tr>\n",
       "        <tr>\n",
       "            <td>391633657998574</td>\n",
       "            <td>2022-11-06 18:31:49</td>\n",
       "            <td>2022-11-06</td>\n",
       "            <td>0</td>\n",
       "        </tr>\n",
       "        <tr>\n",
       "            <td>406087302631582</td>\n",
       "            <td>2023-08-04 04:59:48</td>\n",
       "            <td>2023-08-04</td>\n",
       "            <td>0</td>\n",
       "        </tr>\n",
       "        <tr>\n",
       "            <td>406087302631582</td>\n",
       "            <td>2023-08-09 08:25:03</td>\n",
       "            <td>2023-08-04</td>\n",
       "            <td>0</td>\n",
       "        </tr>\n",
       "        <tr>\n",
       "            <td>472654236140424</td>\n",
       "            <td>2023-08-11 18:09:44</td>\n",
       "            <td>2023-08-11</td>\n",
       "            <td>0</td>\n",
       "        </tr>\n",
       "        <tr>\n",
       "            <td>472654236140424</td>\n",
       "            <td>2023-11-01 15:41:48</td>\n",
       "            <td>2023-08-11</td>\n",
       "            <td>3</td>\n",
       "        </tr>\n",
       "        <tr>\n",
       "            <td>494869758008189</td>\n",
       "            <td>2023-04-04 08:55:39</td>\n",
       "            <td>2023-04-04</td>\n",
       "            <td>0</td>\n",
       "        </tr>\n",
       "        <tr>\n",
       "            <td>494869758008189</td>\n",
       "            <td>2023-09-12 13:48:48</td>\n",
       "            <td>2023-04-04</td>\n",
       "            <td>5</td>\n",
       "        </tr>\n",
       "        <tr>\n",
       "            <td>663648738360215</td>\n",
       "            <td>2023-07-19 16:42:51</td>\n",
       "            <td>2023-07-19</td>\n",
       "            <td>0</td>\n",
       "        </tr>\n",
       "        <tr>\n",
       "            <td>822294870233814</td>\n",
       "            <td>2023-05-17 09:16:01</td>\n",
       "            <td>2023-05-17</td>\n",
       "            <td>0</td>\n",
       "        </tr>\n",
       "        <tr>\n",
       "            <td>857319303011182</td>\n",
       "            <td>2022-10-13 08:14:12</td>\n",
       "            <td>2022-10-13</td>\n",
       "            <td>0</td>\n",
       "        </tr>\n",
       "        <tr>\n",
       "            <td>857319303011182</td>\n",
       "            <td>2022-12-04 10:03:25</td>\n",
       "            <td>2022-10-13</td>\n",
       "            <td>2</td>\n",
       "        </tr>\n",
       "        <tr>\n",
       "            <td>857319303011182</td>\n",
       "            <td>2023-01-30 09:00:33</td>\n",
       "            <td>2022-10-13</td>\n",
       "            <td>3</td>\n",
       "        </tr>\n",
       "    </tbody>\n",
       "</table>"
      ],
      "text/plain": [
       "+-----------------+---------------------+------------------+--------+\n",
       "|      userId     |      ORDER_DATE     | FIRST_ORDER_DATE | COHORT |\n",
       "+-----------------+---------------------+------------------+--------+\n",
       "|  65326324392533 | 2023-05-02 05:33:45 |    2023-05-02    |   0    |\n",
       "| 168982159910603 | 2023-08-24 08:38:20 |    2023-08-24    |   0    |\n",
       "| 219034330643057 | 2022-11-14 14:03:20 |    2022-11-14    |   0    |\n",
       "| 219034330643057 | 2023-01-26 14:41:38 |    2022-11-14    |   2    |\n",
       "| 219034330643057 | 2023-11-08 15:21:25 |    2022-11-14    |   12   |\n",
       "| 271311745575070 | 2022-12-21 14:51:31 |    2022-12-21    |   0    |\n",
       "| 327509841715406 | 2022-10-30 15:04:46 |    2022-10-30    |   0    |\n",
       "| 332400596016082 | 2023-04-25 16:26:51 |    2023-04-25    |   0    |\n",
       "| 391633657998574 | 2022-11-06 18:31:49 |    2022-11-06    |   0    |\n",
       "| 406087302631582 | 2023-08-04 04:59:48 |    2023-08-04    |   0    |\n",
       "| 406087302631582 | 2023-08-09 08:25:03 |    2023-08-04    |   0    |\n",
       "| 472654236140424 | 2023-08-11 18:09:44 |    2023-08-11    |   0    |\n",
       "| 472654236140424 | 2023-11-01 15:41:48 |    2023-08-11    |   3    |\n",
       "| 494869758008189 | 2023-04-04 08:55:39 |    2023-04-04    |   0    |\n",
       "| 494869758008189 | 2023-09-12 13:48:48 |    2023-04-04    |   5    |\n",
       "| 663648738360215 | 2023-07-19 16:42:51 |    2023-07-19    |   0    |\n",
       "| 822294870233814 | 2023-05-17 09:16:01 |    2023-05-17    |   0    |\n",
       "| 857319303011182 | 2022-10-13 08:14:12 |    2022-10-13    |   0    |\n",
       "| 857319303011182 | 2022-12-04 10:03:25 |    2022-10-13    |   2    |\n",
       "| 857319303011182 | 2023-01-30 09:00:33 |    2022-10-13    |   3    |\n",
       "+-----------------+---------------------+------------------+--------+"
      ]
     },
     "execution_count": 80,
     "metadata": {},
     "output_type": "execute_result"
    }
   ],
   "source": [
    "%%sql\n",
    "WITH FIRSTORDERDATES AS (\n",
    "    SELECT \n",
    "        USERID, \n",
    "        MIN(DATE(CREATEDAT)) AS FIRST_ORDER_DATE\n",
    "    FROM ORDERS\n",
    "    GROUP BY USERID\n",
    ")\n",
    "\n",
    "\n",
    "SELECT \n",
    "    O.USERID, \n",
    "    O.CREATEDAT AS ORDER_DATE, \n",
    "    FOD.FIRST_ORDER_DATE, \n",
    "    ((strftime('%Y', O.CREATEDAT) - strftime('%Y', FOD.FIRST_ORDER_DATE)) * 12) + \n",
    "    (strftime('%m', O.CREATEDAT) - strftime('%m', FOD.FIRST_ORDER_DATE)) AS COHORT\n",
    "FROM ORDERS O\n",
    "LEFT JOIN FIRSTORDERDATES FOD ON O.USERID = FOD.USERID\n",
    "ORDER BY O.USERID, O.CREATEDAT\n",
    "\n",
    "LIMIT 20"
   ]
  }
 ],
 "metadata": {
  "kernelspec": {
   "display_name": "resq",
   "language": "python",
   "name": "python3"
  },
  "language_info": {
   "codemirror_mode": {
    "name": "ipython",
    "version": 3
   },
   "file_extension": ".py",
   "mimetype": "text/x-python",
   "name": "python",
   "nbconvert_exporter": "python",
   "pygments_lexer": "ipython3",
   "version": "3.12.6"
  }
 },
 "nbformat": 4,
 "nbformat_minor": 2
}
