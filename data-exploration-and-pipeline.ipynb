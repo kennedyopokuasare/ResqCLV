{
 "cells": [
  {
   "cell_type": "markdown",
   "metadata": {},
   "source": [
    "# Data Exploration and Pipeline\n",
    "\n",
    "The database contains `Users`, `Orders`, and `Providers` tables. \n",
    "\n",
    "Partners are the companies who sell surplus items on the marketplace.\n",
    "A cohort consists of customers who made their first order within the same month (M0). \n",
    "M1 retention is the share of customers who have made at least one purchase one month after their first purchase month.\n",
    "\n",
    "Explore the data with Sql to investigate the following:\n",
    "\n",
    "- The top 10 partners by sales\n",
    "- Customers’ favourite partner segments (default offer types). \n",
    "- What is the M1 retention for any given customer cohort. "
   ]
  },
  {
   "cell_type": "markdown",
   "metadata": {},
   "source": [
    "## Connect to the database \n",
    "The connection to the sqlite datbase is achieved through the `jupysql` python library. This allows querying the database from jupyter notebook. Alternative tools are SQLMagic"
   ]
  },
  {
   "cell_type": "code",
   "execution_count": 1,
   "metadata": {},
   "outputs": [
    {
     "data": {
      "text/html": [
       "<span style=\"None\">displaylimit: Value None will be treated as 0 (no limit)</span>"
      ],
      "text/plain": [
       "displaylimit: Value None will be treated as 0 (no limit)"
      ]
     },
     "metadata": {},
     "output_type": "display_data"
    },
    {
     "data": {
      "text/html": [
       "<span style=\"None\">Connecting to &#x27;sqlite:///data/mock_resq.db&#x27;</span>"
      ],
      "text/plain": [
       "Connecting to 'sqlite:///data/mock_resq.db'"
      ]
     },
     "metadata": {},
     "output_type": "display_data"
    }
   ],
   "source": [
    "import sqlite3\n",
    "con = sqlite3.connect(\"./data/mock_resq.db\") \n",
    "\n",
    "%load_ext sql\n",
    "%config SqlMagic.displaylimit = None\n",
    "\n",
    "%sql sqlite:///data/mock_resq.db"
   ]
  },
  {
   "cell_type": "markdown",
   "metadata": {},
   "source": [
    "### How many user are in the database"
   ]
  },
  {
   "cell_type": "code",
   "execution_count": 2,
   "metadata": {},
   "outputs": [
    {
     "data": {
      "text/html": [
       "<span style=\"None\">Running query in &#x27;sqlite:///data/mock_resq.db&#x27;</span>"
      ],
      "text/plain": [
       "Running query in 'sqlite:///data/mock_resq.db'"
      ]
     },
     "metadata": {},
     "output_type": "display_data"
    },
    {
     "data": {
      "text/html": [
       "<table>\n",
       "    <thead>\n",
       "        <tr>\n",
       "            <th>USER_COUNT</th>\n",
       "        </tr>\n",
       "    </thead>\n",
       "    <tbody>\n",
       "        <tr>\n",
       "            <td>358366</td>\n",
       "        </tr>\n",
       "    </tbody>\n",
       "</table>"
      ],
      "text/plain": [
       "+------------+\n",
       "| USER_COUNT |\n",
       "+------------+\n",
       "|   358366   |\n",
       "+------------+"
      ]
     },
     "execution_count": 2,
     "metadata": {},
     "output_type": "execute_result"
    }
   ],
   "source": [
    "%%sql\n",
    "SELECT COUNT(*) AS USER_COUNT\n",
    "FROM USERS"
   ]
  },
  {
   "cell_type": "markdown",
   "metadata": {},
   "source": [
    "### How many countries do the users come from"
   ]
  },
  {
   "cell_type": "code",
   "execution_count": 3,
   "metadata": {},
   "outputs": [
    {
     "data": {
      "text/html": [
       "<span style=\"None\">Running query in &#x27;sqlite:///data/mock_resq.db&#x27;</span>"
      ],
      "text/plain": [
       "Running query in 'sqlite:///data/mock_resq.db'"
      ]
     },
     "metadata": {},
     "output_type": "display_data"
    },
    {
     "data": {
      "text/html": [
       "<table>\n",
       "    <thead>\n",
       "        <tr>\n",
       "            <th>COUNTRY_COUNT</th>\n",
       "        </tr>\n",
       "    </thead>\n",
       "    <tbody>\n",
       "        <tr>\n",
       "            <td>111</td>\n",
       "        </tr>\n",
       "    </tbody>\n",
       "</table>"
      ],
      "text/plain": [
       "+---------------+\n",
       "| COUNTRY_COUNT |\n",
       "+---------------+\n",
       "|      111      |\n",
       "+---------------+"
      ]
     },
     "execution_count": 3,
     "metadata": {},
     "output_type": "execute_result"
    }
   ],
   "source": [
    "%%sql\n",
    "SELECT COUNT(DISTINCT COUNTRY) AS COUNTRY_COUNT\n",
    "FROM USERS"
   ]
  },
  {
   "cell_type": "markdown",
   "metadata": {},
   "source": [
    "### Which top 10 countries have the most users"
   ]
  },
  {
   "cell_type": "code",
   "execution_count": 4,
   "metadata": {},
   "outputs": [
    {
     "data": {
      "text/html": [
       "<span style=\"None\">Running query in &#x27;sqlite:///data/mock_resq.db&#x27;</span>"
      ],
      "text/plain": [
       "Running query in 'sqlite:///data/mock_resq.db'"
      ]
     },
     "metadata": {},
     "output_type": "display_data"
    },
    {
     "data": {
      "text/html": [
       "<table>\n",
       "    <thead>\n",
       "        <tr>\n",
       "            <th>country</th>\n",
       "            <th>USER_COUNT</th>\n",
       "        </tr>\n",
       "    </thead>\n",
       "    <tbody>\n",
       "        <tr>\n",
       "            <td>FI</td>\n",
       "            <td>339573</td>\n",
       "        </tr>\n",
       "        <tr>\n",
       "            <td>SE</td>\n",
       "            <td>8961</td>\n",
       "        </tr>\n",
       "        <tr>\n",
       "            <td>EE</td>\n",
       "            <td>6505</td>\n",
       "        </tr>\n",
       "        <tr>\n",
       "            <td>DE</td>\n",
       "            <td>512</td>\n",
       "        </tr>\n",
       "        <tr>\n",
       "            <td>AX</td>\n",
       "            <td>434</td>\n",
       "        </tr>\n",
       "        <tr>\n",
       "            <td>ES</td>\n",
       "            <td>209</td>\n",
       "        </tr>\n",
       "        <tr>\n",
       "            <td>FR</td>\n",
       "            <td>200</td>\n",
       "        </tr>\n",
       "        <tr>\n",
       "            <td>GB</td>\n",
       "            <td>190</td>\n",
       "        </tr>\n",
       "        <tr>\n",
       "            <td>AT</td>\n",
       "            <td>182</td>\n",
       "        </tr>\n",
       "        <tr>\n",
       "            <td>NL</td>\n",
       "            <td>152</td>\n",
       "        </tr>\n",
       "    </tbody>\n",
       "</table>"
      ],
      "text/plain": [
       "+---------+------------+\n",
       "| country | USER_COUNT |\n",
       "+---------+------------+\n",
       "|    FI   |   339573   |\n",
       "|    SE   |    8961    |\n",
       "|    EE   |    6505    |\n",
       "|    DE   |    512     |\n",
       "|    AX   |    434     |\n",
       "|    ES   |    209     |\n",
       "|    FR   |    200     |\n",
       "|    GB   |    190     |\n",
       "|    AT   |    182     |\n",
       "|    NL   |    152     |\n",
       "+---------+------------+"
      ]
     },
     "execution_count": 4,
     "metadata": {},
     "output_type": "execute_result"
    }
   ],
   "source": [
    "%%sql \n",
    "SELECT COUNTRY, COUNT(*) AS USER_COUNT\n",
    "FROM USERS \n",
    "GROUP BY COUNTRY\n",
    "ORDER BY USER_COUNT DESC\n",
    "LIMIT 10"
   ]
  },
  {
   "cell_type": "markdown",
   "metadata": {},
   "source": [
    "#### Inference\n",
    "\n",
    "-  There are **358,366** users in the database who are from **111** different countries. \n",
    "-  The top 10 countries where the users come from are Finland (FI), Sweden (SE), Estonia(EE), Germany(DE), Åland (AX), Spain (ES), France (FR), Great Britain (GB), Austria (AT) and Netherlands (NL). \n",
    "-  Ninety-four perecent of users (94% i.e **339573** users) are from Finland, followed by Sweden which has **8961** users. "
   ]
  },
  {
   "cell_type": "markdown",
   "metadata": {},
   "source": [
    "### How many Providers are in the database"
   ]
  },
  {
   "cell_type": "code",
   "execution_count": 5,
   "metadata": {},
   "outputs": [
    {
     "data": {
      "text/html": [
       "<span style=\"None\">Running query in &#x27;sqlite:///data/mock_resq.db&#x27;</span>"
      ],
      "text/plain": [
       "Running query in 'sqlite:///data/mock_resq.db'"
      ]
     },
     "metadata": {},
     "output_type": "display_data"
    },
    {
     "data": {
      "text/html": [
       "<table>\n",
       "    <thead>\n",
       "        <tr>\n",
       "            <th>PROVIDER_COUNT</th>\n",
       "        </tr>\n",
       "    </thead>\n",
       "    <tbody>\n",
       "        <tr>\n",
       "            <td>4337</td>\n",
       "        </tr>\n",
       "    </tbody>\n",
       "</table>"
      ],
      "text/plain": [
       "+----------------+\n",
       "| PROVIDER_COUNT |\n",
       "+----------------+\n",
       "|      4337      |\n",
       "+----------------+"
      ]
     },
     "execution_count": 5,
     "metadata": {},
     "output_type": "execute_result"
    }
   ],
   "source": [
    "%%sql\n",
    "SELECT COUNT(ID) AS PROVIDER_COUNT\n",
    "FROM PROVIDERS"
   ]
  },
  {
   "cell_type": "markdown",
   "metadata": {},
   "source": [
    "### Do providers have multiple offer types?"
   ]
  },
  {
   "cell_type": "code",
   "execution_count": 6,
   "metadata": {},
   "outputs": [
    {
     "data": {
      "text/html": [
       "<span style=\"None\">Running query in &#x27;sqlite:///data/mock_resq.db&#x27;</span>"
      ],
      "text/plain": [
       "Running query in 'sqlite:///data/mock_resq.db'"
      ]
     },
     "metadata": {},
     "output_type": "display_data"
    },
    {
     "data": {
      "text/html": [
       "<table>\n",
       "    <thead>\n",
       "        <tr>\n",
       "            <th>PROVIDER</th>\n",
       "            <th>OFFER_TYPE_COUNT</th>\n",
       "        </tr>\n",
       "    </thead>\n",
       "    <tbody>\n",
       "        <tr>\n",
       "            <td>9222930112446389796</td>\n",
       "            <td>1</td>\n",
       "        </tr>\n",
       "        <tr>\n",
       "            <td>9217379655006460479</td>\n",
       "            <td>1</td>\n",
       "        </tr>\n",
       "        <tr>\n",
       "            <td>9215371507696178188</td>\n",
       "            <td>1</td>\n",
       "        </tr>\n",
       "        <tr>\n",
       "            <td>9214584721622525154</td>\n",
       "            <td>1</td>\n",
       "        </tr>\n",
       "        <tr>\n",
       "            <td>9212615296993900753</td>\n",
       "            <td>1</td>\n",
       "        </tr>\n",
       "    </tbody>\n",
       "</table>"
      ],
      "text/plain": [
       "+---------------------+------------------+\n",
       "|       PROVIDER      | OFFER_TYPE_COUNT |\n",
       "+---------------------+------------------+\n",
       "| 9222930112446389796 |        1         |\n",
       "| 9217379655006460479 |        1         |\n",
       "| 9215371507696178188 |        1         |\n",
       "| 9214584721622525154 |        1         |\n",
       "| 9212615296993900753 |        1         |\n",
       "+---------------------+------------------+"
      ]
     },
     "execution_count": 6,
     "metadata": {},
     "output_type": "execute_result"
    }
   ],
   "source": [
    "%%sql\n",
    "SELECT ID AS PROVIDER, COUNT(DEFAULTOFFERTYPE) AS OFFER_TYPE_COUNT\n",
    "FROM PROVIDERS\n",
    "GROUP BY ID\n",
    "ORDER BY OFFER_TYPE_COUNT DESC\n",
    "LIMIT 5"
   ]
  },
  {
   "cell_type": "markdown",
   "metadata": {},
   "source": [
    "### How many providers per country"
   ]
  },
  {
   "cell_type": "code",
   "execution_count": 7,
   "metadata": {},
   "outputs": [
    {
     "data": {
      "text/html": [
       "<span style=\"None\">Running query in &#x27;sqlite:///data/mock_resq.db&#x27;</span>"
      ],
      "text/plain": [
       "Running query in 'sqlite:///data/mock_resq.db'"
      ]
     },
     "metadata": {},
     "output_type": "display_data"
    },
    {
     "data": {
      "text/html": [
       "<table>\n",
       "    <thead>\n",
       "        <tr>\n",
       "            <th>country</th>\n",
       "            <th>PROVIDER_COUNT</th>\n",
       "        </tr>\n",
       "    </thead>\n",
       "    <tbody>\n",
       "        <tr>\n",
       "            <td>fin</td>\n",
       "            <td>4095</td>\n",
       "        </tr>\n",
       "        <tr>\n",
       "            <td>est</td>\n",
       "            <td>154</td>\n",
       "        </tr>\n",
       "        <tr>\n",
       "            <td>swe</td>\n",
       "            <td>84</td>\n",
       "        </tr>\n",
       "        <tr>\n",
       "            <td>pol</td>\n",
       "            <td>2</td>\n",
       "        </tr>\n",
       "        <tr>\n",
       "            <td>deu</td>\n",
       "            <td>2</td>\n",
       "        </tr>\n",
       "    </tbody>\n",
       "</table>"
      ],
      "text/plain": [
       "+---------+----------------+\n",
       "| country | PROVIDER_COUNT |\n",
       "+---------+----------------+\n",
       "|   fin   |      4095      |\n",
       "|   est   |      154       |\n",
       "|   swe   |       84       |\n",
       "|   pol   |       2        |\n",
       "|   deu   |       2        |\n",
       "+---------+----------------+"
      ]
     },
     "execution_count": 7,
     "metadata": {},
     "output_type": "execute_result"
    }
   ],
   "source": [
    "%%sql \n",
    "SELECT COUNTRY, COUNT(ID) AS PROVIDER_COUNT\n",
    "FROM PROVIDERS\n",
    "GROUP BY COUNTRY\n",
    "ORDER BY PROVIDER_COUNT DESC"
   ]
  },
  {
   "cell_type": "markdown",
   "metadata": {},
   "source": [
    "#### Inference\n",
    "\n",
    "- There are **4337** providers in the database, with each provider having exactly one offer type (meal, snack, dessert, ingredients, flowers etc).  \n",
    "- The providers are from Finland (FIN), Estonia (EST), Sweden (SWE), Poland (POL) and Germany (DEU). \n",
    "- Over **94 percent (4095)** of the providers are from Finland, followed by Estonia with **154** providers. \n",
    "- Poland and Germany has two (2) providers each. \n",
    "\n",
    "\n",
    "`Questions:` \n",
    "\n",
    "Are **partners** the same as **providers** ? If yes, Why the difference in numenclature in Db and instructions? \n",
    "\n",
    "The **Users** table has the two-letter [ISO-3166 country codes](https://en.wikipedia.org/wiki/List_of_ISO_3166_country_codes) (example FI, SE, ES), while the **Providers** table uses the three-letter country code (example FIN, SWE, POL). Is there a perculiar reason for this ? \n",
    "\n",
    "\n",
    "All Providers have exactly one offer type in the database, however the numenclature of the offer says **defaultOfferType** and **partner segment**. Do providers have multiple offer types ? Could the numenclature be harmonised ?"
   ]
  },
  {
   "cell_type": "markdown",
   "metadata": {},
   "source": [
    "\n",
    "## `Now answering the Analyst's questions`"
   ]
  },
  {
   "cell_type": "markdown",
   "metadata": {},
   "source": [
    "## Top 10 partners by sales"
   ]
  },
  {
   "cell_type": "code",
   "execution_count": 8,
   "metadata": {},
   "outputs": [
    {
     "data": {
      "text/html": [
       "<span style=\"None\">Running query in &#x27;sqlite:///data/mock_resq.db&#x27;</span>"
      ],
      "text/plain": [
       "Running query in 'sqlite:///data/mock_resq.db'"
      ]
     },
     "metadata": {},
     "output_type": "display_data"
    },
    {
     "data": {
      "text/html": [
       "<table>\n",
       "    <thead>\n",
       "        <tr>\n",
       "            <th>providerId</th>\n",
       "            <th>TOTAL_SALES</th>\n",
       "        </tr>\n",
       "    </thead>\n",
       "    <tbody>\n",
       "        <tr>\n",
       "            <td>7198110370745783236</td>\n",
       "            <td>10917800</td>\n",
       "        </tr>\n",
       "        <tr>\n",
       "            <td>8312310143652755348</td>\n",
       "            <td>7467750</td>\n",
       "        </tr>\n",
       "        <tr>\n",
       "            <td>8097235958083241788</td>\n",
       "            <td>2383700</td>\n",
       "        </tr>\n",
       "        <tr>\n",
       "            <td>3865474760205653333</td>\n",
       "            <td>2223400</td>\n",
       "        </tr>\n",
       "        <tr>\n",
       "            <td>8084884958338058541</td>\n",
       "            <td>1868140</td>\n",
       "        </tr>\n",
       "        <tr>\n",
       "            <td>4734853230275691017</td>\n",
       "            <td>1702100</td>\n",
       "        </tr>\n",
       "        <tr>\n",
       "            <td>5305286819167536850</td>\n",
       "            <td>1690500</td>\n",
       "        </tr>\n",
       "        <tr>\n",
       "            <td>1066258454353124935</td>\n",
       "            <td>1568100</td>\n",
       "        </tr>\n",
       "        <tr>\n",
       "            <td>7642201963087705313</td>\n",
       "            <td>1472000</td>\n",
       "        </tr>\n",
       "        <tr>\n",
       "            <td>4014236829817167297</td>\n",
       "            <td>1457000</td>\n",
       "        </tr>\n",
       "    </tbody>\n",
       "</table>"
      ],
      "text/plain": [
       "+---------------------+-------------+\n",
       "|      providerId     | TOTAL_SALES |\n",
       "+---------------------+-------------+\n",
       "| 7198110370745783236 |   10917800  |\n",
       "| 8312310143652755348 |   7467750   |\n",
       "| 8097235958083241788 |   2383700   |\n",
       "| 3865474760205653333 |   2223400   |\n",
       "| 8084884958338058541 |   1868140   |\n",
       "| 4734853230275691017 |   1702100   |\n",
       "| 5305286819167536850 |   1690500   |\n",
       "| 1066258454353124935 |   1568100   |\n",
       "| 7642201963087705313 |   1472000   |\n",
       "| 4014236829817167297 |   1457000   |\n",
       "+---------------------+-------------+"
      ]
     },
     "execution_count": 8,
     "metadata": {},
     "output_type": "execute_result"
    }
   ],
   "source": [
    "%%sql \n",
    "SELECT PROVIDERID, SUM(SALES) AS TOTAL_SALES\n",
    "FROM ORDERS\n",
    "GROUP BY PROVIDERID\n",
    "ORDER BY TOTAL_SALES DESC\n",
    "LIMIT 10"
   ]
  },
  {
   "cell_type": "markdown",
   "metadata": {},
   "source": [
    "How many currencies are there in the database?"
   ]
  },
  {
   "cell_type": "code",
   "execution_count": 9,
   "metadata": {},
   "outputs": [
    {
     "data": {
      "text/html": [
       "<span style=\"None\">Running query in &#x27;sqlite:///data/mock_resq.db&#x27;</span>"
      ],
      "text/plain": [
       "Running query in 'sqlite:///data/mock_resq.db'"
      ]
     },
     "metadata": {},
     "output_type": "display_data"
    },
    {
     "data": {
      "text/html": [
       "<table>\n",
       "    <thead>\n",
       "        <tr>\n",
       "            <th>currency</th>\n",
       "        </tr>\n",
       "    </thead>\n",
       "    <tbody>\n",
       "        <tr>\n",
       "            <td>eur</td>\n",
       "        </tr>\n",
       "        <tr>\n",
       "            <td>sek</td>\n",
       "        </tr>\n",
       "    </tbody>\n",
       "</table>"
      ],
      "text/plain": [
       "+----------+\n",
       "| currency |\n",
       "+----------+\n",
       "|   eur    |\n",
       "|   sek    |\n",
       "+----------+"
      ]
     },
     "execution_count": 9,
     "metadata": {},
     "output_type": "execute_result"
    }
   ],
   "source": [
    "%%sql \n",
    "SELECT DISTINCT CURRENCY\n",
    "FROM ORDERS"
   ]
  },
  {
   "cell_type": "markdown",
   "metadata": {},
   "source": [
    "There are only **Euro(EUR)** and **Swedish Krone (SEK)** currencies in the database. \n",
    "\n",
    "`Question:` Is the conversion rate to the base currency, most likely in Euro, saved during the order payment? This will be useful in transforming the sales figures into a commmon currency for consistent reporting. "
   ]
  },
  {
   "cell_type": "markdown",
   "metadata": {},
   "source": [
    "How about **top 10 partners by sales in the respective sales currencies** ?"
   ]
  },
  {
   "cell_type": "code",
   "execution_count": 10,
   "metadata": {},
   "outputs": [
    {
     "data": {
      "text/html": [
       "<span style=\"None\">Running query in &#x27;sqlite:///data/mock_resq.db&#x27;</span>"
      ],
      "text/plain": [
       "Running query in 'sqlite:///data/mock_resq.db'"
      ]
     },
     "metadata": {},
     "output_type": "display_data"
    },
    {
     "data": {
      "text/html": [
       "<table>\n",
       "    <thead>\n",
       "        <tr>\n",
       "            <th>providerId</th>\n",
       "            <th>currency</th>\n",
       "            <th>TOTAL_SALES</th>\n",
       "        </tr>\n",
       "    </thead>\n",
       "    <tbody>\n",
       "        <tr>\n",
       "            <td>7198110370745783236</td>\n",
       "            <td>sek</td>\n",
       "            <td>10917800</td>\n",
       "        </tr>\n",
       "        <tr>\n",
       "            <td>8312310143652755348</td>\n",
       "            <td>sek</td>\n",
       "            <td>7467750</td>\n",
       "        </tr>\n",
       "        <tr>\n",
       "            <td>8097235958083241788</td>\n",
       "            <td>sek</td>\n",
       "            <td>2383700</td>\n",
       "        </tr>\n",
       "        <tr>\n",
       "            <td>3865474760205653333</td>\n",
       "            <td>sek</td>\n",
       "            <td>2223400</td>\n",
       "        </tr>\n",
       "        <tr>\n",
       "            <td>8084884958338058541</td>\n",
       "            <td>eur</td>\n",
       "            <td>1868140</td>\n",
       "        </tr>\n",
       "        <tr>\n",
       "            <td>4734853230275691017</td>\n",
       "            <td>sek</td>\n",
       "            <td>1702100</td>\n",
       "        </tr>\n",
       "        <tr>\n",
       "            <td>5305286819167536850</td>\n",
       "            <td>sek</td>\n",
       "            <td>1690500</td>\n",
       "        </tr>\n",
       "        <tr>\n",
       "            <td>1066258454353124935</td>\n",
       "            <td>sek</td>\n",
       "            <td>1568100</td>\n",
       "        </tr>\n",
       "        <tr>\n",
       "            <td>7642201963087705313</td>\n",
       "            <td>sek</td>\n",
       "            <td>1472000</td>\n",
       "        </tr>\n",
       "        <tr>\n",
       "            <td>4014236829817167297</td>\n",
       "            <td>sek</td>\n",
       "            <td>1457000</td>\n",
       "        </tr>\n",
       "    </tbody>\n",
       "</table>"
      ],
      "text/plain": [
       "+---------------------+----------+-------------+\n",
       "|      providerId     | currency | TOTAL_SALES |\n",
       "+---------------------+----------+-------------+\n",
       "| 7198110370745783236 |   sek    |   10917800  |\n",
       "| 8312310143652755348 |   sek    |   7467750   |\n",
       "| 8097235958083241788 |   sek    |   2383700   |\n",
       "| 3865474760205653333 |   sek    |   2223400   |\n",
       "| 8084884958338058541 |   eur    |   1868140   |\n",
       "| 4734853230275691017 |   sek    |   1702100   |\n",
       "| 5305286819167536850 |   sek    |   1690500   |\n",
       "| 1066258454353124935 |   sek    |   1568100   |\n",
       "| 7642201963087705313 |   sek    |   1472000   |\n",
       "| 4014236829817167297 |   sek    |   1457000   |\n",
       "+---------------------+----------+-------------+"
      ]
     },
     "execution_count": 10,
     "metadata": {},
     "output_type": "execute_result"
    }
   ],
   "source": [
    "%%sql \n",
    "SELECT PROVIDERID, CURRENCY, SUM(SALES) AS TOTAL_SALES\n",
    "FROM ORDERS\n",
    "GROUP BY PROVIDERID, CURRENCY\n",
    "ORDER BY TOTAL_SALES DESC\n",
    "LIMIT 10"
   ]
  },
  {
   "cell_type": "markdown",
   "metadata": {},
   "source": [
    "The same providers are in the top 10"
   ]
  },
  {
   "cell_type": "markdown",
   "metadata": {},
   "source": [
    "## Customers’ favourite partner segments (default offer types)."
   ]
  },
  {
   "cell_type": "code",
   "execution_count": 11,
   "metadata": {},
   "outputs": [
    {
     "data": {
      "text/html": [
       "<span style=\"None\">Running query in &#x27;sqlite:///data/mock_resq.db&#x27;</span>"
      ],
      "text/plain": [
       "Running query in 'sqlite:///data/mock_resq.db'"
      ]
     },
     "metadata": {},
     "output_type": "display_data"
    },
    {
     "data": {
      "text/html": [
       "<table>\n",
       "    <thead>\n",
       "        <tr>\n",
       "            <th>PARTNER_SEGMENT</th>\n",
       "            <th>SUM_ORDER_QUANTITY</th>\n",
       "        </tr>\n",
       "    </thead>\n",
       "    <tbody>\n",
       "        <tr>\n",
       "            <td>meal</td>\n",
       "            <td>305254</td>\n",
       "        </tr>\n",
       "    </tbody>\n",
       "</table>"
      ],
      "text/plain": [
       "+-----------------+--------------------+\n",
       "| PARTNER_SEGMENT | SUM_ORDER_QUANTITY |\n",
       "+-----------------+--------------------+\n",
       "|       meal      |       305254       |\n",
       "+-----------------+--------------------+"
      ]
     },
     "execution_count": 11,
     "metadata": {},
     "output_type": "execute_result"
    }
   ],
   "source": [
    "%%sql \n",
    "SELECT P.DEFAULTOFFERTYPE AS PARTNER_SEGMENT, SUM(O.QUANTITY) AS SUM_ORDER_QUANTITY\n",
    "FROM ORDERS O\n",
    "JOIN PROVIDERS P ON O.PROVIDERID = P.ID\n",
    "GROUP BY P.DEFAULTOFFERTYPE\n",
    "ORDER BY SUM_ORDER_QUANTITY DESC\n",
    "LIMIT 1"
   ]
  },
  {
   "cell_type": "markdown",
   "metadata": {},
   "source": [
    "The Customers' favourite partner segment is **meal** with **305254** orders. "
   ]
  },
  {
   "cell_type": "markdown",
   "metadata": {},
   "source": [
    "## What is the M1 retention for any given customer cohort. "
   ]
  },
  {
   "cell_type": "markdown",
   "metadata": {},
   "source": [
    "Checking table definition and order table column types"
   ]
  },
  {
   "cell_type": "code",
   "execution_count": 12,
   "metadata": {},
   "outputs": [
    {
     "data": {
      "text/html": [
       "<span style=\"None\">Running query in &#x27;sqlite:///data/mock_resq.db&#x27;</span>"
      ],
      "text/plain": [
       "Running query in 'sqlite:///data/mock_resq.db'"
      ]
     },
     "metadata": {},
     "output_type": "display_data"
    },
    {
     "data": {
      "text/html": [
       "<table>\n",
       "    <thead>\n",
       "        <tr>\n",
       "            <th>type</th>\n",
       "            <th>name</th>\n",
       "            <th>tbl_name</th>\n",
       "            <th>rootpage</th>\n",
       "            <th>sql</th>\n",
       "        </tr>\n",
       "    </thead>\n",
       "    <tbody>\n",
       "        <tr>\n",
       "            <td>table</td>\n",
       "            <td>orders</td>\n",
       "            <td>orders</td>\n",
       "            <td>2</td>\n",
       "            <td>CREATE TABLE orders (id, createdAt, userId, quantity, refunded, currency, sales, providerId)</td>\n",
       "        </tr>\n",
       "        <tr>\n",
       "            <td>table</td>\n",
       "            <td>providers</td>\n",
       "            <td>providers</td>\n",
       "            <td>4420</td>\n",
       "            <td>CREATE TABLE providers (id, defaultOfferType, country, registeredDate)</td>\n",
       "        </tr>\n",
       "        <tr>\n",
       "            <td>table</td>\n",
       "            <td>users</td>\n",
       "            <td>users</td>\n",
       "            <td>4465</td>\n",
       "            <td>CREATE TABLE users (id, country, registeredDate)</td>\n",
       "        </tr>\n",
       "    </tbody>\n",
       "</table>"
      ],
      "text/plain": [
       "+-------+-----------+-----------+----------+----------------------------------------------------------------------------------------------+\n",
       "|  type |    name   |  tbl_name | rootpage |                                             sql                                              |\n",
       "+-------+-----------+-----------+----------+----------------------------------------------------------------------------------------------+\n",
       "| table |   orders  |   orders  |    2     | CREATE TABLE orders (id, createdAt, userId, quantity, refunded, currency, sales, providerId) |\n",
       "| table | providers | providers |   4420   |            CREATE TABLE providers (id, defaultOfferType, country, registeredDate)            |\n",
       "| table |   users   |   users   |   4465   |                       CREATE TABLE users (id, country, registeredDate)                       |\n",
       "+-------+-----------+-----------+----------+----------------------------------------------------------------------------------------------+"
      ]
     },
     "execution_count": 12,
     "metadata": {},
     "output_type": "execute_result"
    }
   ],
   "source": [
    "%sql SELECT * FROM SQLITE_MASTER where TYPE='table'"
   ]
  },
  {
   "cell_type": "code",
   "execution_count": 13,
   "metadata": {},
   "outputs": [
    {
     "data": {
      "text/html": [
       "<span style=\"None\">Running query in &#x27;sqlite:///data/mock_resq.db&#x27;</span>"
      ],
      "text/plain": [
       "Running query in 'sqlite:///data/mock_resq.db'"
      ]
     },
     "metadata": {},
     "output_type": "display_data"
    },
    {
     "data": {
      "text/html": [
       "<table>\n",
       "    <thead>\n",
       "        <tr>\n",
       "            <th>name</th>\n",
       "            <th>type</th>\n",
       "        </tr>\n",
       "    </thead>\n",
       "    <tbody>\n",
       "        <tr>\n",
       "            <td>id</td>\n",
       "            <td></td>\n",
       "        </tr>\n",
       "        <tr>\n",
       "            <td>createdAt</td>\n",
       "            <td></td>\n",
       "        </tr>\n",
       "        <tr>\n",
       "            <td>userId</td>\n",
       "            <td></td>\n",
       "        </tr>\n",
       "        <tr>\n",
       "            <td>quantity</td>\n",
       "            <td></td>\n",
       "        </tr>\n",
       "        <tr>\n",
       "            <td>refunded</td>\n",
       "            <td></td>\n",
       "        </tr>\n",
       "        <tr>\n",
       "            <td>currency</td>\n",
       "            <td></td>\n",
       "        </tr>\n",
       "        <tr>\n",
       "            <td>sales</td>\n",
       "            <td></td>\n",
       "        </tr>\n",
       "        <tr>\n",
       "            <td>providerId</td>\n",
       "            <td></td>\n",
       "        </tr>\n",
       "    </tbody>\n",
       "</table>"
      ],
      "text/plain": [
       "+------------+------+\n",
       "|    name    | type |\n",
       "+------------+------+\n",
       "|     id     |      |\n",
       "| createdAt  |      |\n",
       "|   userId   |      |\n",
       "|  quantity  |      |\n",
       "|  refunded  |      |\n",
       "|  currency  |      |\n",
       "|   sales    |      |\n",
       "| providerId |      |\n",
       "+------------+------+"
      ]
     },
     "execution_count": 13,
     "metadata": {},
     "output_type": "execute_result"
    }
   ],
   "source": [
    "%sql SELECT NAME, TYPE FROM PRAGMA_TABLE_INFO('ORDERS')"
   ]
  },
  {
   "cell_type": "markdown",
   "metadata": {},
   "source": [
    "No column types ? This is quit strange. The Date fields needs to be converted for date and aggregation functions"
   ]
  },
  {
   "cell_type": "markdown",
   "metadata": {},
   "source": [
    "Now creating cohorts and computing the M1 retention share\n",
    "A cohort consists of customers who made their first order within the same month (M0). \n",
    "M1 retention is the share of customers who have made at least one purchase one month after their first purchase month"
   ]
  },
  {
   "cell_type": "code",
   "execution_count": 14,
   "metadata": {},
   "outputs": [
    {
     "data": {
      "text/html": [
       "<span style=\"None\">Running query in &#x27;sqlite:///data/mock_resq.db&#x27;</span>"
      ],
      "text/plain": [
       "Running query in 'sqlite:///data/mock_resq.db'"
      ]
     },
     "metadata": {},
     "output_type": "display_data"
    },
    {
     "data": {
      "text/html": [
       "<table>\n",
       "    <thead>\n",
       "        <tr>\n",
       "            <th>M1_SHARE_PERCENTAGE</th>\n",
       "        </tr>\n",
       "    </thead>\n",
       "    <tbody>\n",
       "        <tr>\n",
       "            <td>14.386688469330238</td>\n",
       "        </tr>\n",
       "    </tbody>\n",
       "</table>"
      ],
      "text/plain": [
       "+---------------------+\n",
       "| M1_SHARE_PERCENTAGE |\n",
       "+---------------------+\n",
       "|  14.386688469330238 |\n",
       "+---------------------+"
      ]
     },
     "execution_count": 14,
     "metadata": {},
     "output_type": "execute_result"
    }
   ],
   "source": [
    "%%sql\n",
    "WITH FIRSTORDERDATES AS (\n",
    "    SELECT \n",
    "        USERID, \n",
    "        MIN(DATE(CREATEDAT)) AS FIRST_ORDER_DATE\n",
    "    FROM ORDERS\n",
    "    GROUP BY USERID\n",
    "),\n",
    "CUSTOMERCOUNT AS (\n",
    "    SELECT COUNT(*) AS ALLCUSTOMERS FROM USERS\n",
    "),\n",
    "M1RETENTIONCUSTOMERS AS (\n",
    "    SELECT USERID, MAX(COHORT) AS COHORT\n",
    "    FROM (\n",
    "            SELECT \n",
    "            O.USERID, \n",
    "            ((strftime('%Y', O.CREATEDAT) - strftime('%Y', FOD.FIRST_ORDER_DATE)) * 12) + \n",
    "            (strftime('%m', O.CREATEDAT) - strftime('%m', FOD.FIRST_ORDER_DATE)) AS COHORT\n",
    "        FROM ORDERS O\n",
    "        LEFT JOIN FIRSTORDERDATES FOD ON O.USERID = FOD.USERID\n",
    "    ) AS HISTORICALCOHORTS\n",
    "    WHERE COHORT>0 \n",
    "    GROUP BY USERID  \n",
    ")\n",
    "\n",
    "\n",
    "SELECT \n",
    "    (CAST((SELECT COUNT(*) FROM M1RETENTIONCUSTOMERS) AS REAL) / \n",
    "    CAST((SELECT AllCustomers FROM CustomerCount) AS REAL)) * 100 AS M1_SHARE_PERCENTAGE"
   ]
  },
  {
   "cell_type": "markdown",
   "metadata": {},
   "source": [
    "`Answer` The M1 retention rate is **14.39** percent. This means that **14.39** percent of customers (**51,557** customers) made at least one purchase one month after their first purchase month."
   ]
  },
  {
   "cell_type": "markdown",
   "metadata": {},
   "source": [
    "## Building the data pipeline"
   ]
  },
  {
   "cell_type": "markdown",
   "metadata": {},
   "source": [
    "First install **dbt-core** and **dbt-sqlite** with `pip install --quiet dbt-core dbt-sqlite`.\n",
    "\n",
    "[dbt-sqlite](https://github.com/codeforkjeff/dbt-sqlite) version must align with that of dbt-core for the setup to work properly\n",
    "\n",
    "If the project is setup with the exported virtual enviromnet file **environment.yml**, there is no need to reinstall these dependencies. Check that they are installed with `pip show  dbt-core dbt-sqlite`\n",
    "\n",
    "The dbt init command was used to initialize the dbt project is in subdirectory **ResqDbPipeline**. Therefore all dbt commands should be run in that subdirectory. "
   ]
  },
  {
   "cell_type": "markdown",
   "metadata": {},
   "source": [
    "### Connecting profile for Sqlite database"
   ]
  },
  {
   "cell_type": "code",
   "execution_count": 15,
   "metadata": {},
   "outputs": [],
   "source": [
    "import os\n",
    "\n",
    "dbt_project = \"./ResqDbPipeline\"\n",
    "os.makedirs(dbt_project, exist_ok=True)"
   ]
  },
  {
   "cell_type": "code",
   "execution_count": 16,
   "metadata": {},
   "outputs": [
    {
     "name": "stdout",
     "output_type": "stream",
     "text": [
      "Overwriting ./ResqDbPipeline/profiles.yml\n"
     ]
    }
   ],
   "source": [
    "%%writefile {dbt_project}/profiles.yml\n",
    "ResqDbPipeline:\n",
    "  target: dev\n",
    "  outputs:\n",
    "    dev:\n",
    "      type: sqlite\n",
    "      threads: 1\n",
    "      database: 'database'\n",
    "      schema: 'main'\n",
    "      schemas_and_paths:\n",
    "        main: '../data/mock_resq.db'\n",
    "      schema_directory: '../data'"
   ]
  },
  {
   "cell_type": "markdown",
   "metadata": {},
   "source": [
    "### Testing sqlite database connection"
   ]
  },
  {
   "cell_type": "code",
   "execution_count": 17,
   "metadata": {},
   "outputs": [
    {
     "name": "stdout",
     "output_type": "stream",
     "text": [
      "\u001b[0m14:08:18  Running with dbt=1.5.0\n",
      "\u001b[0m14:08:18  dbt version: 1.5.0\n",
      "\u001b[0m14:08:18  python version: 3.12.6\n",
      "\u001b[0m14:08:18  python path: /opt/anaconda3/envs/resq/bin/python\n",
      "\u001b[0m14:08:18  os info: macOS-14.6-arm64-arm-64bit\n",
      "\u001b[0m14:08:18  Using profiles.yml file at /Users/asare/source/ResqCLV/ResqDbPipeline/profiles.yml\n",
      "\u001b[0m14:08:18  Using dbt_project.yml file at /Users/asare/source/ResqCLV/ResqDbPipeline/dbt_project.yml\n",
      "\u001b[0m14:08:18  Configuration:\n",
      "\u001b[0m14:08:18    profiles.yml file [\u001b[32mOK found and valid\u001b[0m]\n",
      "\u001b[0m14:08:18    dbt_project.yml file [\u001b[32mOK found and valid\u001b[0m]\n",
      "\u001b[0m14:08:18  Required dependencies:\n",
      "\u001b[0m14:08:18   - git [\u001b[32mOK found\u001b[0m]\n",
      "\n",
      "\u001b[0m14:08:18  Connection:\n",
      "\u001b[0m14:08:18    database: database\n",
      "\u001b[0m14:08:18    schema: main\n",
      "\u001b[0m14:08:18    schemas_and_paths: {'main': '../data/mock_resq.db'}\n",
      "\u001b[0m14:08:18    schema_directory: ../data\n",
      "\u001b[0m14:08:18    Connection test: [\u001b[32mOK connection ok\u001b[0m]\n",
      "\n",
      "\u001b[0m14:08:18  \u001b[32mAll checks passed!\u001b[0m\n"
     ]
    }
   ],
   "source": [
    "!cd {dbt_project} && dbt debug"
   ]
  },
  {
   "cell_type": "code",
   "execution_count": 18,
   "metadata": {},
   "outputs": [
    {
     "name": "stdout",
     "output_type": "stream",
     "text": [
      "\u001b[0m14:08:20  Running with dbt=1.5.0\n",
      "\u001b[0m14:08:20  Unable to do partial parsing because saved manifest not found. Starting full parse.\n",
      "\u001b[0m14:08:20  Encountered an error:\n",
      "Compilation Error\n",
      "  dbt found two macros named \"materialization_table_default\" in the project\n",
      "  \"dbt\".\n",
      "   To fix this error, rename or remove one of the following macros:\n",
      "      - macros/materializations/models/table/table.sql\n",
      "      - macros/materializations/models/table.sql\n"
     ]
    }
   ],
   "source": [
    "!cd {dbt_project} && dbt run --full-refresh"
   ]
  },
  {
   "cell_type": "markdown",
   "metadata": {},
   "source": [
    "This error seem strange. This seems like a bug similar errors reported here: \n",
    "- https://discourse.getdbt.com/t/dbt-compilation-error-materialization-table-default/16375\n",
    "\n",
    "- https://discourse.getdbt.com/t/materialization-table-default-macro-occurs/14973/2\n",
    "\n",
    "### Next Action\n",
    "Proceeding with good old python scripts since this is a a **`simple pipeline`**. There is only one data source which is already in the sqlite database, so there is no extraction step, but there will be a step that tranforms the data with queries and joins, and then create Views. "
   ]
  },
  {
   "cell_type": "markdown",
   "metadata": {},
   "source": [
    "### Top partners view script"
   ]
  },
  {
   "cell_type": "code",
   "execution_count": 19,
   "metadata": {},
   "outputs": [
    {
     "name": "stdout",
     "output_type": "stream",
     "text": [
      "Overwriting data/sql/top_partners.sql\n"
     ]
    }
   ],
   "source": [
    "%%writefile data/sql/top_partners.sql\n",
    "DROP VIEW IF EXISTS TOP_PARTNERS;\n",
    "\n",
    "CREATE VIEW TOP_PARTNERS \n",
    "AS \n",
    "    SELECT \n",
    "        PROVIDERID, \n",
    "        CURRENCY,\n",
    "        SUM(SALES) AS TOTAL_SALES\n",
    "    FROM ORDERS\n",
    "    GROUP BY PROVIDERID, CURRENCY\n",
    "    ORDER BY TOTAL_SALES DESC;"
   ]
  },
  {
   "cell_type": "markdown",
   "metadata": {},
   "source": [
    "### Parter segment order quantity view script"
   ]
  },
  {
   "cell_type": "code",
   "execution_count": 20,
   "metadata": {},
   "outputs": [
    {
     "name": "stdout",
     "output_type": "stream",
     "text": [
      "Overwriting data/sql/partner_segment_order_quantity.sql\n"
     ]
    }
   ],
   "source": [
    "%%writefile data/sql/partner_segment_order_quantity.sql\n",
    "\n",
    "DROP VIEW IF EXISTS PARTNET_SEGMENT_ORDER_QUANTIY;\n",
    "\n",
    "CREATE VIEW PARTNET_SEGMENT_ORDER_QUANTIY\n",
    "AS \n",
    "    SELECT \n",
    "        P.DEFAULTOFFERTYPE AS PARTNER_SEGMENT, \n",
    "        SUM(O.QUANTITY) AS SUM_ORDER_QUANTITY\n",
    "    FROM ORDERS O\n",
    "    JOIN PROVIDERS P ON O.PROVIDERID = P.ID\n",
    "    GROUP BY P.DEFAULTOFFERTYPE\n",
    "    ORDER BY SUM_ORDER_QUANTITY DESC;"
   ]
  },
  {
   "cell_type": "markdown",
   "metadata": {},
   "source": [
    "### Customer cohort view"
   ]
  },
  {
   "cell_type": "code",
   "execution_count": 21,
   "metadata": {},
   "outputs": [
    {
     "name": "stdout",
     "output_type": "stream",
     "text": [
      "Overwriting data/sql/customer_cohort.sql\n"
     ]
    }
   ],
   "source": [
    "%%writefile data/sql/customer_cohort.sql\n",
    "DROP VIEW IF EXISTS CUSTOMER_COHORT;\n",
    "\n",
    "CREATE VIEW CUSTOMER_COHORT\n",
    "AS\n",
    "    WITH FIRSTORDERDATES AS (\n",
    "        SELECT \n",
    "            USERID, \n",
    "            MIN(DATE(CREATEDAT)) AS FIRST_ORDER_DATE\n",
    "        FROM ORDERS\n",
    "        GROUP BY USERID\n",
    "    )\n",
    "    \n",
    "    SELECT \n",
    "        USERID, \n",
    "        MAX(COHORT) AS COHORT\n",
    "    FROM (\n",
    "            SELECT \n",
    "                O.USERID, \n",
    "                ((strftime('%Y', O.CREATEDAT) - strftime('%Y', FOD.FIRST_ORDER_DATE)) * 12) + \n",
    "                (strftime('%m', O.CREATEDAT) - strftime('%m', FOD.FIRST_ORDER_DATE)) AS COHORT\n",
    "            FROM ORDERS O\n",
    "            LEFT JOIN FIRSTORDERDATES FOD ON O.USERID = FOD.USERID\n",
    "    ) AS HISTORICALCOHORTS\n",
    "    GROUP BY USERID  \n",
    "    ORDER BY COHORT DESC;"
   ]
  },
  {
   "cell_type": "code",
   "execution_count": 22,
   "metadata": {},
   "outputs": [],
   "source": [
    "import sqlite3\n",
    "import pandas as pd\n",
    "from datetime import datetime\n",
    "\n",
    "\n",
    "class DataPipeline(object):\n",
    "    db_path = \"./data/mock_resq.db\"\n",
    "\n",
    "    def __init__(self):\n",
    "        super().__init__()\n",
    "        self._log(\"Initializing pipeline\")\n",
    "        self._create_connection()\n",
    "        self._create_customer_cohorts_view()\n",
    "        self._create_top_partners_by_sales_view()\n",
    "        self._create_partner_segment_order_quantity_view()\n",
    "        self._close_connection()\n",
    "        self._log(\"Done\")\n",
    "\n",
    "    def top_n_partners(self, top_n):\n",
    "        \"\"\"\n",
    "        Return top n partners by sales\n",
    "        \"\"\"\n",
    "        \n",
    "        sql = \"SELECT * FROM TOP_PARTNERS LIMIT ?\"\n",
    "        return self._execute_query(query= sql, param=(top_n,))\n",
    "\n",
    "    def customers_top_partner_segment(self, top_n=None):\n",
    "        \"\"\"\n",
    "        Returns the order quantity of the top n partner segment.\n",
    "        If top_n is not specified, it returns the favourite partner segment\n",
    "        \"\"\"\n",
    "\n",
    "        top_n = 1 if top_n is None else top_n\n",
    "        sql = \"SELECT * FROM PARTNET_SEGMENT_ORDER_QUANTIY LIMIT ?\"\n",
    "        \n",
    "        return self._execute_query(query=sql, param=(top_n,))\n",
    "\n",
    "    def m1_retention_rate(self):\n",
    "        \"\"\"\n",
    "        Returns M1 retention rate\n",
    "        \"\"\"\n",
    "\n",
    "        sql = \"\"\"\n",
    "                SELECT \n",
    "                    (\n",
    "                        CAST((SELECT COUNT(*) FROM CUSTOMER_COHORT WHERE COHORT > 0) AS REAL) / \n",
    "                        CAST((SELECT COUNT(*)  FROM USERS) AS REAL)\n",
    "                    ) * 100 AS M1_SHARE_PERCENTAGE\n",
    "              \"\"\"\n",
    "        return self._execute_query(query=sql)\n",
    "\n",
    "    def _create_top_partners_by_sales_view(self):\n",
    "        \"\"\"\n",
    "        Creates top partners by sales view\n",
    "        \"\"\"\n",
    "\n",
    "        self._log(\"Creating top partners by sales view in database\")\n",
    "        script_path = \"./data/sql/top_partners.sql\"\n",
    "        self._execute_script(script_path)\n",
    "\n",
    "    def _create_partner_segment_order_quantity_view(self):\n",
    "        \"\"\"\n",
    "        Creates partner segments and order quantity view \n",
    "        \"\"\"\n",
    "\n",
    "        self._log(\"Creating partner segments and order quantity view in database\")\n",
    "        script_path = \"./data/sql/partner_segment_order_quantity.sql\"\n",
    "        self._execute_script(script_path)\n",
    "\n",
    "    def _create_customer_cohorts_view(self):\n",
    "        \"\"\"\n",
    "        Creates customer cohorts view\n",
    "        \"\"\"\n",
    "\n",
    "        self._log(\"Creating customer cohorts view in database\")\n",
    "        script_path = \"./data/sql/customer_cohort.sql\"\n",
    "        self._execute_script(script_path)\n",
    "\n",
    "    def _create_connection(self):\n",
    "        \"\"\"\n",
    "        Creates a database connection\n",
    "        \"\"\"\n",
    "\n",
    "        self.conn = sqlite3.connect(self.db_path)\n",
    "\n",
    "    def _close_connection(self):\n",
    "        \"\"\"\n",
    "        Closes existing database connection.\n",
    "        \"\"\"\n",
    "\n",
    "        if self.conn:\n",
    "            self.conn.commit()\n",
    "            self.conn.close()\n",
    "\n",
    "    def _execute_script(self, script_path):\n",
    "        \"\"\"\n",
    "        Execute SQL script from file \n",
    "        \"\"\"\n",
    "\n",
    "        with open(script_path, \"r\") as file:\n",
    "            sql_script = file.read()\n",
    "\n",
    "        cursor = self.conn.cursor()\n",
    "        cursor.executescript(sql_script)\n",
    "\n",
    "    def _execute_query(self, query, param=None):\n",
    "        \"\"\"\n",
    "        Execute SQL query with parameters \n",
    "        \"\"\"\n",
    "\n",
    "        self._create_connection()\n",
    "        with self.conn as connection:\n",
    "            return pd.read_sql_query(sql=query, con=connection, params=param)\n",
    "    \n",
    "    def _log(self, text):\n",
    "        print(datetime.now().strftime('%H:%M:%S'), text)"
   ]
  },
  {
   "cell_type": "code",
   "execution_count": 23,
   "metadata": {},
   "outputs": [
    {
     "name": "stdout",
     "output_type": "stream",
     "text": [
      "17:08:21 Initializing pipeline\n",
      "17:08:21 Creating customer cohorts view in database\n",
      "17:08:21 Creating top partners by sales view in database\n",
      "17:08:21 Creating partner segments and order quantity view in database\n",
      "17:08:21 Done\n"
     ]
    }
   ],
   "source": [
    "pipeline = DataPipeline()"
   ]
  },
  {
   "cell_type": "markdown",
   "metadata": {},
   "source": [
    "The Analyst can now use the pipeline to create presentation tables, as shown below\n"
   ]
  },
  {
   "cell_type": "markdown",
   "metadata": {},
   "source": [
    "Favourite partner segment:"
   ]
  },
  {
   "cell_type": "code",
   "execution_count": 24,
   "metadata": {},
   "outputs": [
    {
     "data": {
      "text/html": [
       "<div>\n",
       "<style scoped>\n",
       "    .dataframe tbody tr th:only-of-type {\n",
       "        vertical-align: middle;\n",
       "    }\n",
       "\n",
       "    .dataframe tbody tr th {\n",
       "        vertical-align: top;\n",
       "    }\n",
       "\n",
       "    .dataframe thead th {\n",
       "        text-align: right;\n",
       "    }\n",
       "</style>\n",
       "<table border=\"1\" class=\"dataframe\">\n",
       "  <thead>\n",
       "    <tr style=\"text-align: right;\">\n",
       "      <th></th>\n",
       "      <th>PARTNER_SEGMENT</th>\n",
       "      <th>SUM_ORDER_QUANTITY</th>\n",
       "    </tr>\n",
       "  </thead>\n",
       "  <tbody>\n",
       "    <tr>\n",
       "      <th>0</th>\n",
       "      <td>meal</td>\n",
       "      <td>305254</td>\n",
       "    </tr>\n",
       "  </tbody>\n",
       "</table>\n",
       "</div>"
      ],
      "text/plain": [
       "  PARTNER_SEGMENT  SUM_ORDER_QUANTITY\n",
       "0            meal              305254"
      ]
     },
     "execution_count": 24,
     "metadata": {},
     "output_type": "execute_result"
    }
   ],
   "source": [
    "pipeline.customers_top_partner_segment()"
   ]
  },
  {
   "cell_type": "markdown",
   "metadata": {},
   "source": [
    "Top 3 favourite partner segment:"
   ]
  },
  {
   "cell_type": "code",
   "execution_count": 25,
   "metadata": {},
   "outputs": [
    {
     "data": {
      "text/html": [
       "<div>\n",
       "<style scoped>\n",
       "    .dataframe tbody tr th:only-of-type {\n",
       "        vertical-align: middle;\n",
       "    }\n",
       "\n",
       "    .dataframe tbody tr th {\n",
       "        vertical-align: top;\n",
       "    }\n",
       "\n",
       "    .dataframe thead th {\n",
       "        text-align: right;\n",
       "    }\n",
       "</style>\n",
       "<table border=\"1\" class=\"dataframe\">\n",
       "  <thead>\n",
       "    <tr style=\"text-align: right;\">\n",
       "      <th></th>\n",
       "      <th>PARTNER_SEGMENT</th>\n",
       "      <th>SUM_ORDER_QUANTITY</th>\n",
       "    </tr>\n",
       "  </thead>\n",
       "  <tbody>\n",
       "    <tr>\n",
       "      <th>0</th>\n",
       "      <td>meal</td>\n",
       "      <td>305254</td>\n",
       "    </tr>\n",
       "    <tr>\n",
       "      <th>1</th>\n",
       "      <td>snack</td>\n",
       "      <td>63182</td>\n",
       "    </tr>\n",
       "    <tr>\n",
       "      <th>2</th>\n",
       "      <td>grocery-bag</td>\n",
       "      <td>29884</td>\n",
       "    </tr>\n",
       "  </tbody>\n",
       "</table>\n",
       "</div>"
      ],
      "text/plain": [
       "  PARTNER_SEGMENT  SUM_ORDER_QUANTITY\n",
       "0            meal              305254\n",
       "1           snack               63182\n",
       "2     grocery-bag               29884"
      ]
     },
     "execution_count": 25,
     "metadata": {},
     "output_type": "execute_result"
    }
   ],
   "source": [
    "pipeline.customers_top_partner_segment(top_n = 3)"
   ]
  },
  {
   "cell_type": "markdown",
   "metadata": {},
   "source": [
    "Top N partners by sales:"
   ]
  },
  {
   "cell_type": "code",
   "execution_count": 26,
   "metadata": {},
   "outputs": [
    {
     "data": {
      "text/html": [
       "<div>\n",
       "<style scoped>\n",
       "    .dataframe tbody tr th:only-of-type {\n",
       "        vertical-align: middle;\n",
       "    }\n",
       "\n",
       "    .dataframe tbody tr th {\n",
       "        vertical-align: top;\n",
       "    }\n",
       "\n",
       "    .dataframe thead th {\n",
       "        text-align: right;\n",
       "    }\n",
       "</style>\n",
       "<table border=\"1\" class=\"dataframe\">\n",
       "  <thead>\n",
       "    <tr style=\"text-align: right;\">\n",
       "      <th></th>\n",
       "      <th>providerId</th>\n",
       "      <th>currency</th>\n",
       "      <th>TOTAL_SALES</th>\n",
       "    </tr>\n",
       "  </thead>\n",
       "  <tbody>\n",
       "    <tr>\n",
       "      <th>0</th>\n",
       "      <td>7198110370745783236</td>\n",
       "      <td>sek</td>\n",
       "      <td>10917800</td>\n",
       "    </tr>\n",
       "    <tr>\n",
       "      <th>1</th>\n",
       "      <td>8312310143652755348</td>\n",
       "      <td>sek</td>\n",
       "      <td>7467750</td>\n",
       "    </tr>\n",
       "    <tr>\n",
       "      <th>2</th>\n",
       "      <td>8097235958083241788</td>\n",
       "      <td>sek</td>\n",
       "      <td>2383700</td>\n",
       "    </tr>\n",
       "    <tr>\n",
       "      <th>3</th>\n",
       "      <td>3865474760205653333</td>\n",
       "      <td>sek</td>\n",
       "      <td>2223400</td>\n",
       "    </tr>\n",
       "    <tr>\n",
       "      <th>4</th>\n",
       "      <td>8084884958338058541</td>\n",
       "      <td>eur</td>\n",
       "      <td>1868140</td>\n",
       "    </tr>\n",
       "    <tr>\n",
       "      <th>5</th>\n",
       "      <td>4734853230275691017</td>\n",
       "      <td>sek</td>\n",
       "      <td>1702100</td>\n",
       "    </tr>\n",
       "    <tr>\n",
       "      <th>6</th>\n",
       "      <td>5305286819167536850</td>\n",
       "      <td>sek</td>\n",
       "      <td>1690500</td>\n",
       "    </tr>\n",
       "    <tr>\n",
       "      <th>7</th>\n",
       "      <td>1066258454353124935</td>\n",
       "      <td>sek</td>\n",
       "      <td>1568100</td>\n",
       "    </tr>\n",
       "    <tr>\n",
       "      <th>8</th>\n",
       "      <td>7642201963087705313</td>\n",
       "      <td>sek</td>\n",
       "      <td>1472000</td>\n",
       "    </tr>\n",
       "    <tr>\n",
       "      <th>9</th>\n",
       "      <td>4014236829817167297</td>\n",
       "      <td>sek</td>\n",
       "      <td>1457000</td>\n",
       "    </tr>\n",
       "  </tbody>\n",
       "</table>\n",
       "</div>"
      ],
      "text/plain": [
       "            providerId currency  TOTAL_SALES\n",
       "0  7198110370745783236      sek     10917800\n",
       "1  8312310143652755348      sek      7467750\n",
       "2  8097235958083241788      sek      2383700\n",
       "3  3865474760205653333      sek      2223400\n",
       "4  8084884958338058541      eur      1868140\n",
       "5  4734853230275691017      sek      1702100\n",
       "6  5305286819167536850      sek      1690500\n",
       "7  1066258454353124935      sek      1568100\n",
       "8  7642201963087705313      sek      1472000\n",
       "9  4014236829817167297      sek      1457000"
      ]
     },
     "execution_count": 26,
     "metadata": {},
     "output_type": "execute_result"
    }
   ],
   "source": [
    "pipeline.top_n_partners(top_n=10)"
   ]
  },
  {
   "cell_type": "markdown",
   "metadata": {},
   "source": [
    "M1 retention rate:"
   ]
  },
  {
   "cell_type": "code",
   "execution_count": 27,
   "metadata": {},
   "outputs": [
    {
     "data": {
      "text/html": [
       "<div>\n",
       "<style scoped>\n",
       "    .dataframe tbody tr th:only-of-type {\n",
       "        vertical-align: middle;\n",
       "    }\n",
       "\n",
       "    .dataframe tbody tr th {\n",
       "        vertical-align: top;\n",
       "    }\n",
       "\n",
       "    .dataframe thead th {\n",
       "        text-align: right;\n",
       "    }\n",
       "</style>\n",
       "<table border=\"1\" class=\"dataframe\">\n",
       "  <thead>\n",
       "    <tr style=\"text-align: right;\">\n",
       "      <th></th>\n",
       "      <th>M1_SHARE_PERCENTAGE</th>\n",
       "    </tr>\n",
       "  </thead>\n",
       "  <tbody>\n",
       "    <tr>\n",
       "      <th>0</th>\n",
       "      <td>14.386688</td>\n",
       "    </tr>\n",
       "  </tbody>\n",
       "</table>\n",
       "</div>"
      ],
      "text/plain": [
       "   M1_SHARE_PERCENTAGE\n",
       "0            14.386688"
      ]
     },
     "execution_count": 27,
     "metadata": {},
     "output_type": "execute_result"
    }
   ],
   "source": [
    "pipeline.m1_retention_rate()"
   ]
  }
 ],
 "metadata": {
  "kernelspec": {
   "display_name": "resq",
   "language": "python",
   "name": "python3"
  },
  "language_info": {
   "codemirror_mode": {
    "name": "ipython",
    "version": 3
   },
   "file_extension": ".py",
   "mimetype": "text/x-python",
   "name": "python",
   "nbconvert_exporter": "python",
   "pygments_lexer": "ipython3",
   "version": "3.12.6"
  }
 },
 "nbformat": 4,
 "nbformat_minor": 2
}
